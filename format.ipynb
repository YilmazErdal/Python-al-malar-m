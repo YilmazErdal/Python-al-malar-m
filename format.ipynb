{
 "cells": [
  {
   "cell_type": "code",
   "execution_count": 5,
   "id": "95421d36",
   "metadata": {},
   "outputs": [
    {
     "name": "stdout",
     "output_type": "stream",
     "text": [
      "kalkış noktasını girin:ankara\n",
      "varış noktasını girin:diyarbakır\n",
      "isminizi girin:erdal\n",
      "bilet adedini giriniz:7\n",
      "ankara kalkış noktasından diyarbakır varış noktasına erdal adına 7 adet bilet aldınız\n"
     ]
    }
   ],
   "source": [
    "kalkış = input(\"kalkış noktasını girin:\")\n",
    "\n",
    "varış = input(\"varış noktasını girin:\")\n",
    "\n",
    "isim = input(\"isminizi girin:\")\n",
    "\n",
    "bilet_adedi = int(input(\"bilet adedini giriniz:\"))\n",
    "\n",
    "print(\"{} kalkış noktasından {} varış noktasına {} adına {} adet bilet aldınız\".format(kalkış,varış,isim,bilet_adedi))"
   ]
  },
  {
   "cell_type": "code",
   "execution_count": 6,
   "id": "5cf625bd",
   "metadata": {},
   "outputs": [
    {
     "name": "stdout",
     "output_type": "stream",
     "text": [
      "Zeki ile Metin güzel bir ikilidir\n"
     ]
    }
   ],
   "source": [
    "print(\"{:s} ile {:s} güzel bir ikilidir\".format(\"Zeki\",\"Metin\"))"
   ]
  },
  {
   "cell_type": "code",
   "execution_count": 7,
   "id": "4f7d26d2",
   "metadata": {},
   "outputs": [
    {
     "name": "stdout",
     "output_type": "stream",
     "text": [
      "Zeki ile Metin güzel bir ikilidir\n"
     ]
    }
   ],
   "source": [
    "print(\"{} ile {} güzel bir ikilidir\".format(\"Zeki\",\"Metin\"))"
   ]
  },
  {
   "cell_type": "code",
   "execution_count": 28,
   "id": "66f6b023",
   "metadata": {},
   "outputs": [
    {
     "name": "stdout",
     "output_type": "stream",
     "text": [
      "0            0      0       0.00\n",
      "1            1      1       1.00\n",
      "2            2      10       2.00\n",
      "3            3      11       3.00\n",
      "4            4      100       4.00\n",
      "5            5      101       5.00\n",
      "6            6      110       6.00\n",
      "7            7      111       7.00\n",
      "8            8      1000       8.00\n",
      "9            9      1001       9.00\n",
      "a            A      1010       10.00\n",
      "b            B      1011       11.00\n",
      "c            C      1100       12.00\n",
      "d            D      1101       13.00\n",
      "e            E      1110       14.00\n",
      "f            F      1111       15.00\n",
      "10           10      10000       16.00\n",
      "11           11      10001       17.00\n",
      "12           12      10010       18.00\n",
      "13           13      10011       19.00\n"
     ]
    }
   ],
   "source": [
    "for i in range(20):\n",
    "    \n",
    "    print(\"{:x}   {:10X}      {:b}       {:.2f}\".format(i, i, i, i))"
   ]
  },
  {
   "cell_type": "code",
   "execution_count": null,
   "id": "64a48684",
   "metadata": {},
   "outputs": [],
   "source": []
  }
 ],
 "metadata": {
  "kernelspec": {
   "display_name": "Python 3 (ipykernel)",
   "language": "python",
   "name": "python3"
  },
  "language_info": {
   "codemirror_mode": {
    "name": "ipython",
    "version": 3
   },
   "file_extension": ".py",
   "mimetype": "text/x-python",
   "name": "python",
   "nbconvert_exporter": "python",
   "pygments_lexer": "ipython3",
   "version": "3.9.7"
  }
 },
 "nbformat": 4,
 "nbformat_minor": 5
}

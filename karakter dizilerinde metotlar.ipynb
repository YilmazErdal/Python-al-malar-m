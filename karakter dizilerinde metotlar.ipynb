{
 "cells": [
  {
   "cell_type": "code",
   "execution_count": 1,
   "id": "3de99884",
   "metadata": {},
   "outputs": [
    {
     "data": {
      "text/plain": [
       "'banane YAZdan bahardan'"
      ]
     },
     "execution_count": 1,
     "metadata": {},
     "output_type": "execute_result"
    }
   ],
   "source": [
    "liste = \"banane yazdan bahardan\"\n",
    "\n",
    "liste.replace(\"yaz\",\"YAZ\")"
   ]
  },
  {
   "cell_type": "code",
   "execution_count": 2,
   "id": "76992bbd",
   "metadata": {},
   "outputs": [
    {
     "data": {
      "text/plain": [
       "'BANAne yazdan bahardan'"
      ]
     },
     "execution_count": 2,
     "metadata": {},
     "output_type": "execute_result"
    }
   ],
   "source": [
    "liste.replace(\"bana\",\"BANA\")"
   ]
  },
  {
   "cell_type": "code",
   "execution_count": 3,
   "id": "dd209af1",
   "metadata": {},
   "outputs": [
    {
     "data": {
      "text/plain": [
       "'banane yazdan bahardan'"
      ]
     },
     "execution_count": 3,
     "metadata": {},
     "output_type": "execute_result"
    }
   ],
   "source": [
    "liste"
   ]
  },
  {
   "cell_type": "code",
   "execution_count": 4,
   "id": "5cc7195e",
   "metadata": {},
   "outputs": [
    {
     "data": {
      "text/plain": [
       "['Bediüzzaman', 'Said', 'Nursi', 'Hazretleri']"
      ]
     },
     "execution_count": 4,
     "metadata": {},
     "output_type": "execute_result"
    }
   ],
   "source": [
    "liste1 = \"Bediüzzaman Said Nursi Hazretleri\"\n",
    "\n",
    "liste1.split()"
   ]
  },
  {
   "cell_type": "code",
   "execution_count": 6,
   "id": "b8472c2f",
   "metadata": {},
   "outputs": [
    {
     "data": {
      "text/plain": [
       "'Bediüzzaman Said Nursi Hazretleri'"
      ]
     },
     "execution_count": 6,
     "metadata": {},
     "output_type": "execute_result"
    }
   ],
   "source": [
    "liste1"
   ]
  },
  {
   "cell_type": "code",
   "execution_count": 7,
   "id": "839b99bb",
   "metadata": {},
   "outputs": [
    {
     "name": "stdout",
     "output_type": "stream",
     "text": [
      "Bediüzzaman\n",
      "Said\n",
      "Nursi\n",
      "Hazretleri\n"
     ]
    }
   ],
   "source": [
    "for i in liste1.split():\n",
    "    print(i)\n"
   ]
  },
  {
   "cell_type": "code",
   "execution_count": 8,
   "id": "14e4adeb",
   "metadata": {},
   "outputs": [
    {
     "name": "stdout",
     "output_type": "stream",
     "text": [
      "B.S.N.H."
     ]
    }
   ],
   "source": [
    "for i in liste1.split():\n",
    "    print(i[0], end=\".\")"
   ]
  },
  {
   "cell_type": "code",
   "execution_count": 10,
   "id": "e83e73e9",
   "metadata": {},
   "outputs": [
    {
     "data": {
      "text/plain": [
       "'bediüzzaman said nursi hazretleri'"
      ]
     },
     "execution_count": 10,
     "metadata": {},
     "output_type": "execute_result"
    }
   ],
   "source": [
    "liste1.lower()"
   ]
  },
  {
   "cell_type": "code",
   "execution_count": 11,
   "id": "c8df8b1e",
   "metadata": {},
   "outputs": [
    {
     "data": {
      "text/plain": [
       "'BEDIÜZZAMAN SAID NURSI HAZRETLERI'"
      ]
     },
     "execution_count": 11,
     "metadata": {},
     "output_type": "execute_result"
    }
   ],
   "source": [
    "liste1.upper()"
   ]
  },
  {
   "cell_type": "code",
   "execution_count": null,
   "id": "6680e0a5",
   "metadata": {},
   "outputs": [],
   "source": []
  }
 ],
 "metadata": {
  "kernelspec": {
   "display_name": "Python 3 (ipykernel)",
   "language": "python",
   "name": "python3"
  },
  "language_info": {
   "codemirror_mode": {
    "name": "ipython",
    "version": 3
   },
   "file_extension": ".py",
   "mimetype": "text/x-python",
   "name": "python",
   "nbconvert_exporter": "python",
   "pygments_lexer": "ipython3",
   "version": "3.9.7"
  }
 },
 "nbformat": 4,
 "nbformat_minor": 5
}

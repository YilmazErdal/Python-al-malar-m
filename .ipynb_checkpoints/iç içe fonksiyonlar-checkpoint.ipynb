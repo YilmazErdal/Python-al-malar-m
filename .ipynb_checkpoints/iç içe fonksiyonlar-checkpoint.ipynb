{
 "cells": [
  {
   "cell_type": "code",
   "execution_count": 1,
   "id": "031884da",
   "metadata": {},
   "outputs": [],
   "source": [
    "def fonksiyon(*args):\n",
    "    for i in args:\n",
    "        print(i)\n",
    "    "
   ]
  },
  {
   "cell_type": "code",
   "execution_count": 4,
   "id": "3f3bf247",
   "metadata": {},
   "outputs": [
    {
     "name": "stdout",
     "output_type": "stream",
     "text": [
      "[0, 1, 2, 3, 4, 5, 6, 7, 8, 9, 10, 11, 12, 13]\n"
     ]
    }
   ],
   "source": [
    "fonksiyon(list(range(14)))"
   ]
  },
  {
   "cell_type": "code",
   "execution_count": 7,
   "id": "5504d7ca",
   "metadata": {},
   "outputs": [],
   "source": [
    "def fonksiyon(isim,*args):\n",
    "    print(\"isim:\",isim)\n",
    "    \n",
    "    print(\"...........\")\n",
    "    for i in args:\n",
    "        print(i)"
   ]
  },
  {
   "cell_type": "code",
   "execution_count": 8,
   "id": "06b68e2f",
   "metadata": {},
   "outputs": [
    {
     "name": "stdout",
     "output_type": "stream",
     "text": [
      "isim: Erdal\n",
      "...........\n",
      "1\n",
      "5\n",
      "3\n",
      "2\n",
      "6\n"
     ]
    }
   ],
   "source": [
    "fonksiyon(\"Erdal\",1,5,3,2,6)"
   ]
  },
  {
   "cell_type": "code",
   "execution_count": 13,
   "id": "2b55313d",
   "metadata": {},
   "outputs": [],
   "source": [
    "def fonksiyon(**kwargs):\n",
    "    print(kwargs)"
   ]
  },
  {
   "cell_type": "code",
   "execution_count": 14,
   "id": "36cf7079",
   "metadata": {},
   "outputs": [
    {
     "name": "stdout",
     "output_type": "stream",
     "text": [
      "{'isim': 'Erdal', 'Meslek': 'IT-er', 'numara': 15}\n"
     ]
    }
   ],
   "source": [
    "fonksiyon(isim = \"Erdal\", Meslek = \"IT-er\", numara = 15)"
   ]
  },
  {
   "cell_type": "code",
   "execution_count": 11,
   "id": "630e9dd9",
   "metadata": {},
   "outputs": [],
   "source": [
    "def fonksiyon(**kwargs):\n",
    "    for i,j in kwargs:\n",
    "        print(\"Argüman:\",i, \"Değeri:\",j)"
   ]
  },
  {
   "cell_type": "code",
   "execution_count": null,
   "id": "d423963a",
   "metadata": {},
   "outputs": [],
   "source": []
  }
 ],
 "metadata": {
  "kernelspec": {
   "display_name": "Python 3 (ipykernel)",
   "language": "python",
   "name": "python3"
  },
  "language_info": {
   "codemirror_mode": {
    "name": "ipython",
    "version": 3
   },
   "file_extension": ".py",
   "mimetype": "text/x-python",
   "name": "python",
   "nbconvert_exporter": "python",
   "pygments_lexer": "ipython3",
   "version": "3.9.7"
  }
 },
 "nbformat": 4,
 "nbformat_minor": 5
}

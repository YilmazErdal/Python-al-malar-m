{
 "cells": [
  {
   "cell_type": "code",
   "execution_count": null,
   "id": "f2fde83c",
   "metadata": {},
   "outputs": [],
   "source": [
    "Hesap Makinası = \"\"\"\n",
    "\n",
    "***************************\n",
    "\n",
    "İşlem listesi\n",
    "\n",
    "1.Toplama işlemi\n",
    "2.Çıkarma işlemi\n",
    "3.Çarpma işlemi\n",
    "4.Bölme işlemi\n",
    "5.Kare bulma işlemi\n",
    "6.Karekök bulma işlemi\n",
    "\n",
    "***************************\n",
    "\n",
    "\"\"\"\n",
    "\n",
    "print (Hesap Makinası)\n",
    "\n",
    "Değer = input(\"Bir İşlem Numarası girin:\")\n",
    "\n",
    "if Değer == 1:\n",
    "    sayı1 = int(input(\"Toplama işlemi için 1. sayıyı girin:\"))\n",
    "    sayı2 = int(input(\"Toplama işlemi için 2. sayıyı girin:\"))\n",
    "    print(\"{} sayısı ile {} sayısının toplamı {} dır.\".format(sayı1,sayı2,sayı1+sayı2))\n",
    "elif Değer == 2:\n",
    "    \n",
    "    "
   ]
  }
 ],
 "metadata": {
  "kernelspec": {
   "display_name": "Python 3 (ipykernel)",
   "language": "python",
   "name": "python3"
  },
  "language_info": {
   "codemirror_mode": {
    "name": "ipython",
    "version": 3
   },
   "file_extension": ".py",
   "mimetype": "text/x-python",
   "name": "python",
   "nbconvert_exporter": "python",
   "pygments_lexer": "ipython3",
   "version": "3.9.7"
  }
 },
 "nbformat": 4,
 "nbformat_minor": 5
}

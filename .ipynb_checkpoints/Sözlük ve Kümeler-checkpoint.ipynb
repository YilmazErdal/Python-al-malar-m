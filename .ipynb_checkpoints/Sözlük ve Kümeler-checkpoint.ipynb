{
 "cells": [
  {
   "cell_type": "markdown",
   "id": "4a926a03",
   "metadata": {},
   "source": [
    "# Sözlükler(Dictinary)"
   ]
  },
  {
   "cell_type": "code",
   "execution_count": 1,
   "id": "658fb077",
   "metadata": {},
   "outputs": [
    {
     "name": "stdout",
     "output_type": "stream",
     "text": [
      "{'erdal': 'Kars'}\n"
     ]
    }
   ],
   "source": [
    "sözlük = {}\n",
    "\n",
    "sözlük[\"erdal\"] = \"Kars\"\n",
    "\n",
    "print(sözlük)"
   ]
  },
  {
   "cell_type": "code",
   "execution_count": 2,
   "id": "c16221d5",
   "metadata": {},
   "outputs": [
    {
     "name": "stdout",
     "output_type": "stream",
     "text": [
      "{'erdal': 'Kars', 'ferhat': 'kayseri'}\n"
     ]
    }
   ],
   "source": [
    "sözlük[\"ferhat\"]= \"kayseri\"\n",
    "\n",
    "print(sözlük)"
   ]
  },
  {
   "cell_type": "code",
   "execution_count": 4,
   "id": "3c39e670",
   "metadata": {},
   "outputs": [
    {
     "name": "stdout",
     "output_type": "stream",
     "text": [
      "{'erdal': 'Kars', 'ferhat': 'kayseri', 'kemal': 'edirne', 'hüseyin': 'bartın'}\n"
     ]
    }
   ],
   "source": [
    "sözlük[\"kemal\"] = \"edirne\"\n",
    "sözlük[\"hüseyin\"] = \"bartın\"\n",
    "\n",
    "print(sözlük)"
   ]
  },
  {
   "cell_type": "code",
   "execution_count": 5,
   "id": "28e55fc3",
   "metadata": {},
   "outputs": [
    {
     "data": {
      "text/plain": [
       "dict_keys(['erdal', 'ferhat', 'kemal', 'hüseyin'])"
      ]
     },
     "execution_count": 5,
     "metadata": {},
     "output_type": "execute_result"
    }
   ],
   "source": [
    "sözlük.keys()"
   ]
  },
  {
   "cell_type": "code",
   "execution_count": 7,
   "id": "89ca8ba1",
   "metadata": {},
   "outputs": [
    {
     "data": {
      "text/plain": [
       "dict_values(['Kars', 'kayseri', 'edirne', 'bartın'])"
      ]
     },
     "execution_count": 7,
     "metadata": {},
     "output_type": "execute_result"
    }
   ],
   "source": [
    "sözlük.values()"
   ]
  },
  {
   "cell_type": "code",
   "execution_count": 8,
   "id": "00251f7a",
   "metadata": {},
   "outputs": [
    {
     "name": "stdout",
     "output_type": "stream",
     "text": [
      "Kars\n",
      "kayseri\n",
      "edirne\n",
      "bartın\n"
     ]
    }
   ],
   "source": [
    "for i in sözlük.values():\n",
    "    print(i)"
   ]
  },
  {
   "cell_type": "code",
   "execution_count": 10,
   "id": "7677b2a9",
   "metadata": {},
   "outputs": [],
   "source": [
    "sözlük1 = list[sözlük.items()]"
   ]
  },
  {
   "cell_type": "code",
   "execution_count": null,
   "id": "edf48cc7",
   "metadata": {},
   "outputs": [],
   "source": []
  }
 ],
 "metadata": {
  "kernelspec": {
   "display_name": "Python 3 (ipykernel)",
   "language": "python",
   "name": "python3"
  },
  "language_info": {
   "codemirror_mode": {
    "name": "ipython",
    "version": 3
   },
   "file_extension": ".py",
   "mimetype": "text/x-python",
   "name": "python",
   "nbconvert_exporter": "python",
   "pygments_lexer": "ipython3",
   "version": "3.9.7"
  }
 },
 "nbformat": 4,
 "nbformat_minor": 5
}

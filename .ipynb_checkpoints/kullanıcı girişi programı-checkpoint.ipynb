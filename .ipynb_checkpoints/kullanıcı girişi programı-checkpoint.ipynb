{
 "cells": [
  {
   "cell_type": "code",
   "execution_count": null,
   "id": "ca9d7f65",
   "metadata": {},
   "outputs": [],
   "source": [
    "print(\" Kullanıcı Giriş Programı \")\n",
    "       \n",
    "stm_kullanıcı = \"erdal\"\n",
    "stm_parola = \"1234\"\n",
    "\n",
    "giris_hakkı = 4\n",
    "      \n",
    "while True:\n",
    "      \n",
    "    kullanıcı_adı = input(\"Kullanıcı Adı:\")\n",
    "    parola = input(\"Parola:\")\n",
    "      \n",
    "    if (kullanıcı_adı!= stm_kullanıcı and parola == stm_parola):\n",
    "        print(\"Kullanıcı adını yanlış girdiniz.\")\n",
    "        giris_hakkı-=1\n",
    "    elif (kullanıcı_adı==stm_kullanıcı and parola != stm_parola):\n",
    "        print(\"Parolayı yanlış girdiniz.\")\n",
    "        giris_hakkı -=1\n",
    "    elif (kullanıcı_adı != stm_kullanıcı and parola != stm_parola):\n",
    "        print(\"Kullanıcı adı ve Parolayı yanlış girdiniz.\")\n",
    "        giris_hakkı -=1\n",
    "    else:\n",
    "        print(\"Sisteme başarıyla giriş yaptınız.\")\n",
    "        break  \n",
    "    if (giris_hakkı==0):\n",
    "        print(\"Giriş hakkını doldurdunuz.\")\n",
    "        break\n",
    "      "
   ]
  },
  {
   "cell_type": "code",
   "execution_count": null,
   "id": "7c0c4f7b",
   "metadata": {},
   "outputs": [],
   "source": []
  },
  {
   "cell_type": "code",
   "execution_count": null,
   "id": "ae0943b1",
   "metadata": {},
   "outputs": [],
   "source": []
  }
 ],
 "metadata": {
  "kernelspec": {
   "display_name": "Python 3 (ipykernel)",
   "language": "python",
   "name": "python3"
  },
  "language_info": {
   "codemirror_mode": {
    "name": "ipython",
    "version": 3
   },
   "file_extension": ".py",
   "mimetype": "text/x-python",
   "name": "python",
   "nbconvert_exporter": "python",
   "pygments_lexer": "ipython3",
   "version": "3.9.7"
  }
 },
 "nbformat": 4,
 "nbformat_minor": 5
}

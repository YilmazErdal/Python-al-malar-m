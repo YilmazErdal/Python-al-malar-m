{
 "cells": [
  {
   "cell_type": "code",
   "execution_count": 1,
   "id": "5e8a35fa",
   "metadata": {},
   "outputs": [
    {
     "name": "stdout",
     "output_type": "stream",
     "text": [
      "5\n",
      "Selam\n"
     ]
    }
   ],
   "source": [
    "a = 5\n",
    "\n",
    "if(a<6):\n",
    "    print(a)\n",
    "print('Selam')"
   ]
  },
  {
   "cell_type": "code",
   "execution_count": 4,
   "id": "0373d0e9",
   "metadata": {},
   "outputs": [
    {
     "name": "stdout",
     "output_type": "stream",
     "text": [
      "Yaşınızı giriniz:18\n",
      "Lütfen biraz bekleyiniz\n"
     ]
    }
   ],
   "source": [
    "yas = int(input('Yaşınızı giriniz:'))\n",
    "\n",
    "if (yas<18):\n",
    "    print('Mekana giremezsiniz')\n",
    "elif(yas==18):\n",
    "    print('Lütfen biraz bekleyiniz')\n",
    "else:\n",
    "    print('mekana hoşgeldiniz')"
   ]
  },
  {
   "cell_type": "code",
   "execution_count": 7,
   "id": "5517fbec",
   "metadata": {},
   "outputs": [
    {
     "name": "stdout",
     "output_type": "stream",
     "text": [
      "işlem giriniz1\n",
      "İşlem 1 seçildi\n"
     ]
    }
   ],
   "source": [
    "işlem = input('işlem giriniz')\n",
    "\n",
    "\n",
    "if işlem == '1':\n",
    "    print('İşlem 1 seçildi')\n",
    "elif işlem == '2':\n",
    "    print('İşlem 2 seçildi')\n",
    "elif işlem == '3':\n",
    "    print('İşlem 3 seçildi')\n",
    "elif işlem == '4':\n",
    "    print('İşlem 4 seçildi')\n",
    "else:\n",
    "    print('Geçersiz işlem')\n"
   ]
  },
  {
   "cell_type": "code",
   "execution_count": 11,
   "id": "40337c89",
   "metadata": {},
   "outputs": [
    {
     "ename": "SyntaxError",
     "evalue": "invalid syntax (Temp/ipykernel_2852/2128046475.py, line 25)",
     "output_type": "error",
     "traceback": [
      "\u001b[1;36m  File \u001b[1;32m\"C:\\Users\\HP\\AppData\\Local\\Temp/ipykernel_2852/2128046475.py\"\u001b[1;36m, line \u001b[1;32m25\u001b[0m\n\u001b[1;33m    print'Geçersiz işlem')\u001b[0m\n\u001b[1;37m         ^\u001b[0m\n\u001b[1;31mSyntaxError\u001b[0m\u001b[1;31m:\u001b[0m invalid syntax\n"
     ]
    }
   ],
   "source": [
    "print('''Hesap makinası programı\n",
    "\n",
    "İşlemler\n",
    "1. Toplama işlemi\n",
    "2. Çıkarma işlemi\n",
    "3. Çarpma işlemi\n",
    "4. Bölme işlemi\n",
    "\n",
    "''')\n",
    "\n",
    "işlem = int(input('İşlemi giriniz:'))\n",
    "\n",
    "a = int(input('Birinci sayı:'))\n",
    "b = int(input('İkinci sayı:'))\n",
    "\n",
    "if işlem == 1:\n",
    "    print('{}ile{}nin toplamı{}dir'.format(a,b,a+b))\n",
    "elif işlem == 2:\n",
    "    print('{}ile{}nin farkı{}dir'.format(a,b,a-b))\n",
    "elif işlem == 3:\n",
    "    print('{}ile{}nin çarpımı{}dir'.format(a, b, a * b))\n",
    "elif işlem == 4:\n",
    "    print('{}ile{}nin bölümü{}dir'.format(a, b, a / b))\n",
    "else:\n",
    "    print()'Geçersiz işlem')"
   ]
  },
  {
   "cell_type": "code",
   "execution_count": null,
   "id": "e50fa924",
   "metadata": {},
   "outputs": [],
   "source": []
  }
 ],
 "metadata": {
  "kernelspec": {
   "display_name": "Python 3 (ipykernel)",
   "language": "python",
   "name": "python3"
  },
  "language_info": {
   "codemirror_mode": {
    "name": "ipython",
    "version": 3
   },
   "file_extension": ".py",
   "mimetype": "text/x-python",
   "name": "python",
   "nbconvert_exporter": "python",
   "pygments_lexer": "ipython3",
   "version": "3.9.7"
  }
 },
 "nbformat": 4,
 "nbformat_minor": 5
}

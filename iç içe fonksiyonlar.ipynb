{
 "cells": [
  {
   "cell_type": "code",
   "execution_count": 4,
   "id": "ce4c12d6",
   "metadata": {},
   "outputs": [],
   "source": [
    "def fonksiyon(*args):\n",
    "    for i in args:\n",
    "        print(i)\n",
    "    "
   ]
  },
  {
   "cell_type": "code",
   "execution_count": 5,
   "id": "ef6f96ac",
   "metadata": {},
   "outputs": [
    {
     "name": "stdout",
     "output_type": "stream",
     "text": [
      "[0, 1, 2, 3, 4, 5, 6, 7, 8, 9, 10, 11, 12, 13]\n"
     ]
    }
   ],
   "source": [
    "fonksiyon(list(range(14)))"
   ]
  },
  {
   "cell_type": "code",
   "execution_count": 6,
   "id": "742a29b7",
   "metadata": {},
   "outputs": [],
   "source": [
    "def fonksiyon(isim,*args):\n",
    "    print(\"isim:\",isim)\n",
    "    \n",
    "    print(\"...........\")\n",
    "    for i in args:\n",
    "        print(i)"
   ]
  },
  {
   "cell_type": "code",
   "execution_count": 7,
   "id": "88a76944",
   "metadata": {},
   "outputs": [
    {
     "name": "stdout",
     "output_type": "stream",
     "text": [
      "isim: Erdal\n",
      "...........\n",
      "1\n",
      "5\n",
      "3\n",
      "2\n",
      "6\n"
     ]
    }
   ],
   "source": [
    "fonksiyon(\"Erdal\",1,5,3,2,6)"
   ]
  },
  {
   "cell_type": "code",
   "execution_count": 8,
   "id": "7df17cbd",
   "metadata": {},
   "outputs": [],
   "source": [
    "def fonksiyon(**kwargs):\n",
    "    print(kwargs)"
   ]
  },
  {
   "cell_type": "code",
   "execution_count": 9,
   "id": "495cc26a",
   "metadata": {},
   "outputs": [
    {
     "name": "stdout",
     "output_type": "stream",
     "text": [
      "{'isim': 'Erdal', 'Meslek': 'IT-er', 'numara': 15}\n"
     ]
    }
   ],
   "source": [
    "fonksiyon(isim = \"Erdal\", Meslek = \"IT-er\", numara = 15)"
   ]
  },
  {
   "cell_type": "code",
   "execution_count": 10,
   "id": "d5d61930",
   "metadata": {},
   "outputs": [],
   "source": [
    "def fonksiyon(**kwargs):\n",
    "    for i,j in kwargs.items():\n",
    "        print(\"Argüman:\",i, \"Değeri:\",j)"
   ]
  },
  {
   "cell_type": "code",
   "execution_count": 11,
   "id": "6dcafc60",
   "metadata": {},
   "outputs": [
    {
     "name": "stdout",
     "output_type": "stream",
     "text": [
      "Argüman: isim Değeri: Erdal\n",
      "Argüman: Meslek Değeri: IT-er\n",
      "Argüman: numara Değeri: 15\n"
     ]
    }
   ],
   "source": [
    "fonksiyon(isim = \"Erdal\", Meslek = \"IT-er\", numara = 15)"
   ]
  },
  {
   "cell_type": "code",
   "execution_count": 12,
   "id": "c696fcd6",
   "metadata": {},
   "outputs": [],
   "source": [
    "def fonksiyon (*args,**kwargs):\n",
    "    for i in args:\n",
    "        print(i)\n",
    "        \n",
    "        print(\"***************\")\n",
    "        \n",
    "        for i,j in kwargs.items():\n",
    "            print(i,j)"
   ]
  },
  {
   "cell_type": "code",
   "execution_count": 13,
   "id": "c8b5f8fd",
   "metadata": {},
   "outputs": [],
   "source": [
    "fonksiyon(isim = \"Erdal\", Meslek = \"IT-er\", numara = 15)"
   ]
  },
  {
   "cell_type": "code",
   "execution_count": 14,
   "id": "2ac8663b",
   "metadata": {},
   "outputs": [],
   "source": [
    "fonksiyon(isim = \"Erdal\", Meslek = \"IT-er\", numara = 15)"
   ]
  },
  {
   "cell_type": "code",
   "execution_count": 17,
   "id": "95e68f06",
   "metadata": {},
   "outputs": [],
   "source": [
    "def fonksiyon (*args,**kwargs):\n",
    "    for i in args:\n",
    "        print(i)\n",
    "        \n",
    "        print(\"***************\")\n",
    "        \n",
    "    for i,j in kwargs.items():\n",
    "        print(i,j)"
   ]
  },
  {
   "cell_type": "code",
   "execution_count": 20,
   "id": "66c5a4c1",
   "metadata": {},
   "outputs": [
    {
     "name": "stdout",
     "output_type": "stream",
     "text": [
      "1\n",
      "***************\n",
      "2\n",
      "***************\n",
      "3\n",
      "***************\n",
      "4\n",
      "***************\n",
      "5\n",
      "***************\n",
      "isim Erdal\n",
      "Meslek IT-er\n",
      "numara 15\n"
     ]
    }
   ],
   "source": [
    "fonksiyon(1,2,3,4,5, isim = \"Erdal\", Meslek = \"IT-er\", numara = 15)"
   ]
  },
  {
   "cell_type": "code",
   "execution_count": 26,
   "id": "10a1d23e",
   "metadata": {},
   "outputs": [],
   "source": [
    "def selamla(isim):\n",
    "    print(\"selam\",isim)"
   ]
  },
  {
   "cell_type": "code",
   "execution_count": 27,
   "id": "9955d14f",
   "metadata": {},
   "outputs": [
    {
     "name": "stdout",
     "output_type": "stream",
     "text": [
      "selam erdal\n"
     ]
    }
   ],
   "source": [
    "selamla(\"erdal\")"
   ]
  },
  {
   "cell_type": "code",
   "execution_count": 31,
   "id": "623f78c8",
   "metadata": {},
   "outputs": [],
   "source": [
    "merhaba = selamla"
   ]
  },
  {
   "cell_type": "code",
   "execution_count": 32,
   "id": "ec66c369",
   "metadata": {},
   "outputs": [
    {
     "name": "stdout",
     "output_type": "stream",
     "text": [
      "selam kadir\n"
     ]
    }
   ],
   "source": [
    "merhaba(\"kadir\")"
   ]
  },
  {
   "cell_type": "code",
   "execution_count": 33,
   "id": "f190d91c",
   "metadata": {},
   "outputs": [],
   "source": [
    "del selamla"
   ]
  },
  {
   "cell_type": "code",
   "execution_count": 34,
   "id": "1f91a5fc",
   "metadata": {},
   "outputs": [
    {
     "name": "stdout",
     "output_type": "stream",
     "text": [
      "selam aykan\n"
     ]
    }
   ],
   "source": [
    "merhaba(\"aykan\")"
   ]
  },
  {
   "cell_type": "code",
   "execution_count": 35,
   "id": "29cffced",
   "metadata": {},
   "outputs": [],
   "source": [
    "import math"
   ]
  },
  {
   "cell_type": "code",
   "execution_count": 37,
   "id": "5f20c5a5",
   "metadata": {},
   "outputs": [
    {
     "data": {
      "text/plain": [
       "120"
      ]
     },
     "execution_count": 37,
     "metadata": {},
     "output_type": "execute_result"
    }
   ],
   "source": [
    "math.factorial(5)"
   ]
  },
  {
   "cell_type": "code",
   "execution_count": null,
   "id": "4a2a6cd8",
   "metadata": {},
   "outputs": [],
   "source": []
  }
 ],
 "metadata": {
  "kernelspec": {
   "display_name": "Python 3 (ipykernel)",
   "language": "python",
   "name": "python3"
  },
  "language_info": {
   "codemirror_mode": {
    "name": "ipython",
    "version": 3
   },
   "file_extension": ".py",
   "mimetype": "text/x-python",
   "name": "python",
   "nbconvert_exporter": "python",
   "pygments_lexer": "ipython3",
   "version": "3.9.7"
  }
 },
 "nbformat": 4,
 "nbformat_minor": 5
}

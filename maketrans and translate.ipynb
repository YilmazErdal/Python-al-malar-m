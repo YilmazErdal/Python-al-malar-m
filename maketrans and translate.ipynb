{
 "cells": [
  {
   "cell_type": "code",
   "execution_count": 3,
   "id": "286f4e44",
   "metadata": {},
   "outputs": [
    {
     "name": "stdout",
     "output_type": "stream",
     "text": [
      "rdl ylmz\n"
     ]
    }
   ],
   "source": [
    "isim = \"Erdal Yılmaz\"\n",
    "\n",
    "hedef = \"Y\"\n",
    "yeni = \"y\"\n",
    "\n",
    "silinecek = \"Eıa\"\n",
    "\n",
    "yeni_tablo = str.maketrans(hedef,yeni,silinecek)\n",
    "\n",
    "print(isim.translate(yeni_tablo))"
   ]
  },
  {
   "cell_type": "code",
   "execution_count": 6,
   "id": "235ee8f5",
   "metadata": {},
   "outputs": [
    {
     "name": "stdout",
     "output_type": "stream",
     "text": [
      "slm gtrdm\n"
     ]
    }
   ],
   "source": [
    "isim1 = \"Selam Getirdim\"\n",
    "\n",
    "hedef1 = \"SG\"\n",
    "\n",
    "yeni1 = \"sg\"\n",
    "silinecek= \"eai\"\n",
    "\n",
    "yeni_isim = str.maketrans(hedef1,yeni1,silinecek)\n",
    "\n",
    "print(isim1.translate(yeni_isim))"
   ]
  },
  {
   "cell_type": "code",
   "execution_count": 12,
   "id": "e744d55c",
   "metadata": {},
   "outputs": [
    {
     "data": {
      "text/plain": [
       "False"
      ]
     },
     "execution_count": 12,
     "metadata": {},
     "output_type": "execute_result"
    }
   ],
   "source": [
    "isim1 = \"Selam Getirdim\"\n",
    "\n",
    "isim1.isalpha()"
   ]
  },
  {
   "cell_type": "code",
   "execution_count": 19,
   "id": "af77230c",
   "metadata": {},
   "outputs": [
    {
     "data": {
      "text/plain": [
       "True"
      ]
     },
     "execution_count": 19,
     "metadata": {},
     "output_type": "execute_result"
    }
   ],
   "source": [
    "a = \"keremcan\"\n",
    "\n",
    "a.isalpha()\n",
    "a.isdigit()\n",
    "a.isalpha()"
   ]
  },
  {
   "cell_type": "code",
   "execution_count": 18,
   "id": "592690c2",
   "metadata": {},
   "outputs": [
    {
     "data": {
      "text/plain": [
       "True"
      ]
     },
     "execution_count": 18,
     "metadata": {},
     "output_type": "execute_result"
    }
   ],
   "source": [
    "b = \"12345\"\n",
    "\n",
    "b.isalpha()\n",
    "b.isdigit()"
   ]
  },
  {
   "cell_type": "code",
   "execution_count": null,
   "id": "41f6b2aa",
   "metadata": {},
   "outputs": [],
   "source": []
  }
 ],
 "metadata": {
  "kernelspec": {
   "display_name": "Python 3 (ipykernel)",
   "language": "python",
   "name": "python3"
  },
  "language_info": {
   "codemirror_mode": {
    "name": "ipython",
    "version": 3
   },
   "file_extension": ".py",
   "mimetype": "text/x-python",
   "name": "python",
   "nbconvert_exporter": "python",
   "pygments_lexer": "ipython3",
   "version": "3.9.7"
  }
 },
 "nbformat": 4,
 "nbformat_minor": 5
}

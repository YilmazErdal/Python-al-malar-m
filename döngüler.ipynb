{
 "cells": [
  {
   "cell_type": "code",
   "execution_count": 4,
   "id": "d1dc8eb8",
   "metadata": {},
   "outputs": [
    {
     "data": {
      "text/plain": [
       "True"
      ]
     },
     "execution_count": 4,
     "metadata": {},
     "output_type": "execute_result"
    }
   ],
   "source": [
    "'a' in ['Selamlar','b','a', 'Saygılar']"
   ]
  },
  {
   "cell_type": "code",
   "execution_count": 5,
   "id": "f64ab741",
   "metadata": {},
   "outputs": [
    {
     "data": {
      "text/plain": [
       "True"
      ]
     },
     "execution_count": 5,
     "metadata": {},
     "output_type": "execute_result"
    }
   ],
   "source": [
    "liste = [2,5,8,'yargı','me']\n",
    "\n",
    "5 in liste"
   ]
  },
  {
   "cell_type": "code",
   "execution_count": 6,
   "id": "11fddf71",
   "metadata": {},
   "outputs": [
    {
     "data": {
      "text/plain": [
       "True"
      ]
     },
     "execution_count": 6,
     "metadata": {},
     "output_type": "execute_result"
    }
   ],
   "source": [
    "'yargı'in liste"
   ]
  },
  {
   "cell_type": "code",
   "execution_count": 7,
   "id": "24f9021e",
   "metadata": {},
   "outputs": [
    {
     "name": "stdout",
     "output_type": "stream",
     "text": [
      "4\n",
      "8\n",
      "10\n",
      "12\n",
      "18\n",
      "16\n"
     ]
    }
   ],
   "source": [
    "liste = [2,4,5,6,9,8]\n",
    "\n",
    "for a in liste:\n",
    "    print(a*2)"
   ]
  },
  {
   "cell_type": "code",
   "execution_count": 8,
   "id": "005310d7",
   "metadata": {},
   "outputs": [
    {
     "name": "stdout",
     "output_type": "stream",
     "text": [
      "Toplam: 2 a :2\n",
      "Toplam: 6 a :4\n",
      "Toplam: 11 a :5\n",
      "Toplam: 17 a :6\n",
      "Toplam: 26 a :9\n",
      "Toplam: 34 a :8\n",
      "34\n"
     ]
    }
   ],
   "source": [
    "toplam = 0\n",
    "liste = [2,4,5,6,9,8]\n",
    "\n",
    "for a in liste:\n",
    "    toplam = toplam + a\n",
    "    print('Toplam: {} a :{}'.format(toplam,a))\n",
    "print(toplam)"
   ]
  },
  {
   "cell_type": "code",
   "execution_count": 11,
   "id": "84c1c26d",
   "metadata": {},
   "outputs": [
    {
     "name": "stdout",
     "output_type": "stream",
     "text": [
      "2\n",
      "4\n",
      "6\n",
      "8\n"
     ]
    }
   ],
   "source": [
    "liste = [2,4,5,6,9,8]\n",
    "\n",
    "for a in liste:\n",
    "    if a % 2 == 0:\n",
    "        print('{}'.format(a))\n"
   ]
  },
  {
   "cell_type": "code",
   "execution_count": 13,
   "id": "400566a4",
   "metadata": {},
   "outputs": [
    {
     "name": "stdout",
     "output_type": "stream",
     "text": [
      "mmm\n",
      "eee\n",
      "rrr\n",
      "hhh\n",
      "aaa\n",
      "bbb\n",
      "aaa\n"
     ]
    }
   ],
   "source": [
    "st = 'merhaba'\n",
    "\n",
    "for i in st:\n",
    "    print(i*3)"
   ]
  },
  {
   "cell_type": "code",
   "execution_count": 14,
   "id": "0e8c5ac9",
   "metadata": {},
   "outputs": [
    {
     "name": "stdout",
     "output_type": "stream",
     "text": [
      "1 2 3\n",
      "4 5 3\n",
      "9 12 8\n"
     ]
    }
   ],
   "source": [
    "liste = [(1,2,3),(4,5,3),(9,12,8)]\n",
    "\n",
    "for (i,j,k) in liste:\n",
    "    print(i,j,k)"
   ]
  },
  {
   "cell_type": "code",
   "execution_count": 16,
   "id": "4e67d48d",
   "metadata": {},
   "outputs": [
    {
     "name": "stdout",
     "output_type": "stream",
     "text": [
      "5\n",
      "23\n",
      "116\n"
     ]
    }
   ],
   "source": [
    "liste = [(1,2,3),(4,5,3),(9,12,8)]\n",
    "\n",
    "for (i,j,k) in liste:\n",
    "    print(i*j+k)"
   ]
  },
  {
   "cell_type": "code",
   "execution_count": 18,
   "id": "68a44b53",
   "metadata": {},
   "outputs": [
    {
     "name": "stdout",
     "output_type": "stream",
     "text": [
      "i nin değeri 0\n",
      "i nin değeri 1\n",
      "i nin değeri 2\n",
      "i nin değeri 3\n",
      "i nin değeri 4\n",
      "i nin değeri 5\n",
      "i nin değeri 6\n",
      "i nin değeri 7\n",
      "i nin değeri 8\n",
      "i nin değeri 9\n"
     ]
    }
   ],
   "source": [
    "i = 0\n",
    "\n",
    "while(i<10):\n",
    "    print('i nin değeri', i)\n",
    "    i+=1"
   ]
  },
  {
   "cell_type": "code",
   "execution_count": 19,
   "id": "6f3540ab",
   "metadata": {},
   "outputs": [
    {
     "name": "stdout",
     "output_type": "stream",
     "text": [
      "i nin değeri 30\n",
      "i nin değeri 29\n",
      "i nin değeri 28\n",
      "i nin değeri 27\n",
      "i nin değeri 26\n",
      "i nin değeri 25\n",
      "i nin değeri 24\n",
      "i nin değeri 23\n",
      "i nin değeri 22\n",
      "i nin değeri 21\n",
      "i nin değeri 20\n",
      "i nin değeri 19\n",
      "i nin değeri 18\n",
      "i nin değeri 17\n",
      "i nin değeri 16\n",
      "i nin değeri 15\n",
      "i nin değeri 14\n",
      "i nin değeri 13\n",
      "i nin değeri 12\n",
      "i nin değeri 11\n"
     ]
    }
   ],
   "source": [
    "i = 30\n",
    "\n",
    "while(i>10):\n",
    "    print('i nin değeri', i)\n",
    "    i-=1"
   ]
  },
  {
   "cell_type": "code",
   "execution_count": 20,
   "id": "a4a4ce71",
   "metadata": {},
   "outputs": [
    {
     "name": "stdout",
     "output_type": "stream",
     "text": [
      "Seni seviyorum\n",
      "Seni seviyorum\n",
      "Seni seviyorum\n",
      "Seni seviyorum\n",
      "Seni seviyorum\n",
      "Seni seviyorum\n",
      "Seni seviyorum\n",
      "Seni seviyorum\n",
      "Seni seviyorum\n",
      "Seni seviyorum\n",
      "Seni seviyorum\n"
     ]
    }
   ],
   "source": [
    "a = 0\n",
    "\n",
    "while(a<11):\n",
    "    print('Seni seviyorum')\n",
    "    a+=1"
   ]
  },
  {
   "cell_type": "code",
   "execution_count": 7,
   "id": "43662804",
   "metadata": {},
   "outputs": [
    {
     "name": "stdout",
     "output_type": "stream",
     "text": [
      "0 1 2 3 4 5 6 7 8 9 10 11 12 13 14 15 16 17 18 19 20\n"
     ]
    }
   ],
   "source": [
    "print(*range(0,21))"
   ]
  },
  {
   "cell_type": "code",
   "execution_count": 8,
   "id": "fe57210f",
   "metadata": {},
   "outputs": [
    {
     "name": "stdout",
     "output_type": "stream",
     "text": [
      "\n",
      "**\n",
      "****\n",
      "******\n",
      "********\n",
      "**********\n",
      "************\n",
      "**************\n",
      "****************\n",
      "******************\n"
     ]
    }
   ],
   "source": [
    "for i in range(0,20,2):\n",
    "    print('*'*i)\n",
    "\n"
   ]
  },
  {
   "cell_type": "code",
   "execution_count": 9,
   "id": "315785c9",
   "metadata": {},
   "outputs": [
    {
     "name": "stdout",
     "output_type": "stream",
     "text": [
      "i nin değeri 30\n",
      "i nin değeri 29\n",
      "i nin değeri 28\n",
      "i nin değeri 27\n",
      "i nin değeri 26\n",
      "i nin değeri 25\n"
     ]
    }
   ],
   "source": [
    "i = 30\n",
    "\n",
    "while(i>10):\n",
    "    if i == 24:\n",
    "        break\n",
    "    print('i nin değeri', i)\n",
    "    i-=1"
   ]
  },
  {
   "cell_type": "code",
   "execution_count": 10,
   "id": "f9f8a30a",
   "metadata": {},
   "outputs": [
    {
     "name": "stdout",
     "output_type": "stream",
     "text": [
      "1\n",
      "2\n",
      "3\n",
      "4\n",
      "5\n",
      "6\n",
      "7\n",
      "8\n",
      "9\n",
      "10\n",
      "11\n",
      "12\n"
     ]
    }
   ],
   "source": [
    "for i in range(1,20):\n",
    "    if i == 13:\n",
    "        break\n",
    "    print(i)"
   ]
  },
  {
   "cell_type": "code",
   "execution_count": 16,
   "id": "3812464d",
   "metadata": {},
   "outputs": [
    {
     "name": "stdout",
     "output_type": "stream",
     "text": [
      "isim(çıkmak için 'q' ya basın):Erdal\n",
      "isminiz: Erdal\n",
      "isim(çıkmak için 'q' ya basın):q\n",
      "programdan çıkılıyor..\n"
     ]
    }
   ],
   "source": [
    "while True:\n",
    "    isim = input(\"isim(çıkmak için 'q' ya basın):\")\n",
    "    if(isim == \"q\"):\n",
    "        print(\"programdan çıkılıyor..\")\n",
    "        break\n",
    "    print(\"isminiz:\",isim)"
   ]
  },
  {
   "cell_type": "code",
   "execution_count": 18,
   "id": "54551efd",
   "metadata": {},
   "outputs": [
    {
     "name": "stdout",
     "output_type": "stream",
     "text": [
      "i: 0\n",
      "i: 1\n",
      "i: 2\n",
      "i: 3\n",
      "i: 4\n",
      "i: 6\n",
      "i: 7\n",
      "i: 8\n",
      "i: 10\n",
      "i: 11\n",
      "i: 12\n",
      "i: 13\n",
      "i: 14\n"
     ]
    }
   ],
   "source": [
    "for i in range(15):\n",
    "    if(i==5 or i==9):\n",
    "        continue\n",
    "    print(\"i:\",i)"
   ]
  },
  {
   "cell_type": "code",
   "execution_count": 21,
   "id": "c15ad577",
   "metadata": {},
   "outputs": [],
   "source": [
    "liste = range(0,14)\n",
    "\n",
    "liste2 = [i*2 for i in liste]\n"
   ]
  },
  {
   "cell_type": "code",
   "execution_count": 22,
   "id": "e25b9fa5",
   "metadata": {},
   "outputs": [
    {
     "name": "stdout",
     "output_type": "stream",
     "text": [
      "[0, 2, 4, 6, 8, 10, 12, 14, 16, 18, 20, 22, 24, 26]\n"
     ]
    }
   ],
   "source": [
    "print(liste2)"
   ]
  },
  {
   "cell_type": "code",
   "execution_count": 23,
   "id": "919256c7",
   "metadata": {},
   "outputs": [],
   "source": [
    "liste3 = [i+2 for i in liste2]"
   ]
  },
  {
   "cell_type": "code",
   "execution_count": 24,
   "id": "1906d68b",
   "metadata": {},
   "outputs": [
    {
     "name": "stdout",
     "output_type": "stream",
     "text": [
      "[2, 4, 6, 8, 10, 12, 14, 16, 18, 20, 22, 24, 26, 28]\n"
     ]
    }
   ],
   "source": [
    "print(liste3)"
   ]
  },
  {
   "cell_type": "code",
   "execution_count": null,
   "id": "12e1b0f5",
   "metadata": {},
   "outputs": [],
   "source": []
  }
 ],
 "metadata": {
  "kernelspec": {
   "display_name": "Python 3 (ipykernel)",
   "language": "python",
   "name": "python3"
  },
  "language_info": {
   "codemirror_mode": {
    "name": "ipython",
    "version": 3
   },
   "file_extension": ".py",
   "mimetype": "text/x-python",
   "name": "python",
   "nbconvert_exporter": "python",
   "pygments_lexer": "ipython3",
   "version": "3.9.7"
  }
 },
 "nbformat": 4,
 "nbformat_minor": 5
}

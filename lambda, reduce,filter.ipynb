{
 "cells": [
  {
   "cell_type": "code",
   "execution_count": 1,
   "id": "0950a28c",
   "metadata": {},
   "outputs": [],
   "source": [
    "def double(x):\n",
    "    return x*2"
   ]
  },
  {
   "cell_type": "code",
   "execution_count": 2,
   "id": "fe2d54c2",
   "metadata": {},
   "outputs": [
    {
     "data": {
      "text/plain": [
       "<map at 0x1ff26b1c970>"
      ]
     },
     "execution_count": 2,
     "metadata": {},
     "output_type": "execute_result"
    }
   ],
   "source": [
    "map(double,[2,3,5,6,78,12])"
   ]
  },
  {
   "cell_type": "code",
   "execution_count": 3,
   "id": "fd5fbb23",
   "metadata": {},
   "outputs": [
    {
     "data": {
      "text/plain": [
       "[4, 6, 10, 12, 156, 24]"
      ]
     },
     "execution_count": 3,
     "metadata": {},
     "output_type": "execute_result"
    }
   ],
   "source": [
    "list(map(double,[2,3,5,6,78,12]))"
   ]
  },
  {
   "cell_type": "code",
   "execution_count": 4,
   "id": "ef280603",
   "metadata": {},
   "outputs": [
    {
     "data": {
      "text/plain": [
       "[9, 16, 4, 36, 49, 81]"
      ]
     },
     "execution_count": 4,
     "metadata": {},
     "output_type": "execute_result"
    }
   ],
   "source": [
    "liste1= [3,4,2,6,7,9]\n",
    "\n",
    "list(map(lambda x: x**2,liste1))"
   ]
  },
  {
   "cell_type": "code",
   "execution_count": 5,
   "id": "affa950c",
   "metadata": {},
   "outputs": [
    {
     "data": {
      "text/plain": [
       "[0, 1, 4, 9, 16, 25, 36, 49, 64, 81]"
      ]
     },
     "execution_count": 5,
     "metadata": {},
     "output_type": "execute_result"
    }
   ],
   "source": [
    "list(map(lambda x: x**2,list(range(10))))"
   ]
  },
  {
   "cell_type": "markdown",
   "id": "679edb76",
   "metadata": {},
   "source": [
    "Reduce"
   ]
  },
  {
   "cell_type": "code",
   "execution_count": 6,
   "id": "86dfd333",
   "metadata": {},
   "outputs": [],
   "source": [
    "from functools import reduce"
   ]
  },
  {
   "cell_type": "code",
   "execution_count": 7,
   "id": "bf32261b",
   "metadata": {},
   "outputs": [],
   "source": [
    "def toplama(x,y):\n",
    "    return x+y"
   ]
  },
  {
   "cell_type": "code",
   "execution_count": 8,
   "id": "b7ab8176",
   "metadata": {},
   "outputs": [
    {
     "data": {
      "text/plain": [
       "156"
      ]
     },
     "execution_count": 8,
     "metadata": {},
     "output_type": "execute_result"
    }
   ],
   "source": [
    "reduce(toplama, list(range(2,39,5)))"
   ]
  },
  {
   "cell_type": "code",
   "execution_count": 15,
   "id": "b6aaf19a",
   "metadata": {},
   "outputs": [
    {
     "data": {
      "text/plain": [
       "10"
      ]
     },
     "execution_count": 15,
     "metadata": {},
     "output_type": "execute_result"
    }
   ],
   "source": [
    "reduce(lambda x,y: x+y, list(range(5)))"
   ]
  },
  {
   "cell_type": "markdown",
   "id": "1f36656a",
   "metadata": {},
   "source": [
    "# Filter"
   ]
  },
  {
   "cell_type": "code",
   "execution_count": 20,
   "id": "a902e909",
   "metadata": {},
   "outputs": [
    {
     "data": {
      "text/plain": [
       "[1, 3, 5, 7, 9, 11]"
      ]
     },
     "execution_count": 20,
     "metadata": {},
     "output_type": "execute_result"
    }
   ],
   "source": [
    "list(filter(lambda x: x%2 != 0, list(range(12))))"
   ]
  },
  {
   "cell_type": "code",
   "execution_count": 21,
   "id": "ee05b2a6",
   "metadata": {},
   "outputs": [],
   "source": [
    "def asal_mı(x):\n",
    "    i=2\n",
    "    if x==1 :\n",
    "        return False\n",
    "    elif x==2 :\n",
    "        return True\n",
    "    else:\n",
    "        while i<x :\n",
    "            if x%i ==0 :\n",
    "                return False\n",
    "            i+=1\n",
    "        return True\n",
    "            "
   ]
  },
  {
   "cell_type": "code",
   "execution_count": 22,
   "id": "174b79a7",
   "metadata": {},
   "outputs": [
    {
     "data": {
      "text/plain": [
       "True"
      ]
     },
     "execution_count": 22,
     "metadata": {},
     "output_type": "execute_result"
    }
   ],
   "source": [
    "asal_mı(31)"
   ]
  },
  {
   "cell_type": "code",
   "execution_count": 30,
   "id": "df64ae57",
   "metadata": {},
   "outputs": [
    {
     "data": {
      "text/plain": [
       "[0,\n",
       " 2,\n",
       " 3,\n",
       " 5,\n",
       " 7,\n",
       " 11,\n",
       " 13,\n",
       " 17,\n",
       " 19,\n",
       " 23,\n",
       " 29,\n",
       " 31,\n",
       " 37,\n",
       " 41,\n",
       " 43,\n",
       " 47,\n",
       " 53,\n",
       " 59,\n",
       " 61,\n",
       " 67,\n",
       " 71,\n",
       " 73,\n",
       " 79,\n",
       " 83,\n",
       " 89,\n",
       " 97]"
      ]
     },
     "execution_count": 30,
     "metadata": {},
     "output_type": "execute_result"
    }
   ],
   "source": [
    "list(filter(asal_mı , range(0,100)))"
   ]
  },
  {
   "cell_type": "markdown",
   "id": "a4c906cc",
   "metadata": {},
   "source": [
    "Zip"
   ]
  },
  {
   "cell_type": "code",
   "execution_count": 31,
   "id": "52d60fca",
   "metadata": {},
   "outputs": [],
   "source": [
    "liste1 = [3,4,5,2,1]\n",
    "liste2 = [6,7,9,8,0]"
   ]
  },
  {
   "cell_type": "code",
   "execution_count": 35,
   "id": "e2d7242a",
   "metadata": {},
   "outputs": [
    {
     "name": "stdout",
     "output_type": "stream",
     "text": [
      "[(3, 6), (4, 7), (5, 9), (2, 8), (1, 0)]\n"
     ]
    }
   ],
   "source": [
    "i = 0\n",
    "sonuç = list()\n",
    "while (i<len(liste1)and i<len(liste2)):\n",
    "    sonuç.append((liste1[i],liste2[i]))\n",
    "    i+=1\n",
    "print(sonuç)"
   ]
  },
  {
   "cell_type": "code",
   "execution_count": 36,
   "id": "f97c64a1",
   "metadata": {},
   "outputs": [
    {
     "data": {
      "text/plain": [
       "[(3, 6), (4, 7), (5, 9), (2, 8), (1, 0)]"
      ]
     },
     "execution_count": 36,
     "metadata": {},
     "output_type": "execute_result"
    }
   ],
   "source": [
    "list(zip(liste1,liste2))"
   ]
  },
  {
   "cell_type": "code",
   "execution_count": 39,
   "id": "b6daf60c",
   "metadata": {},
   "outputs": [
    {
     "name": "stdout",
     "output_type": "stream",
     "text": [
      "3 6\n",
      "4 7\n",
      "5 9\n",
      "2 8\n",
      "1 0\n"
     ]
    }
   ],
   "source": [
    "for i,j in zip(liste1,liste2):\n",
    "    print(i,j)"
   ]
  },
  {
   "cell_type": "markdown",
   "id": "4dadba45",
   "metadata": {},
   "source": [
    "Enumerate"
   ]
  },
  {
   "cell_type": "markdown",
   "id": "2d48fe53",
   "metadata": {},
   "source": [
    "All ve Any"
   ]
  },
  {
   "cell_type": "code",
   "execution_count": null,
   "id": "15bdd0c4",
   "metadata": {},
   "outputs": [],
   "source": []
  }
 ],
 "metadata": {
  "kernelspec": {
   "display_name": "Python 3 (ipykernel)",
   "language": "python",
   "name": "python3"
  },
  "language_info": {
   "codemirror_mode": {
    "name": "ipython",
    "version": 3
   },
   "file_extension": ".py",
   "mimetype": "text/x-python",
   "name": "python",
   "nbconvert_exporter": "python",
   "pygments_lexer": "ipython3",
   "version": "3.9.7"
  }
 },
 "nbformat": 4,
 "nbformat_minor": 5
}

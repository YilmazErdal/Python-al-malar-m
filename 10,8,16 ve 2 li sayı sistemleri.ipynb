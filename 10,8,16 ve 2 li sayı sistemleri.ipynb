{
 "cells": [
  {
   "cell_type": "code",
   "execution_count": 2,
   "id": "ef8ed52b",
   "metadata": {},
   "outputs": [
    {
     "name": "stdout",
     "output_type": "stream",
     "text": [
      "onlu         sekizli      onaltılı     ikili        \n",
      " 0             0             0             0\n",
      " 1             1             1             1\n",
      " 2             2             2            10\n",
      " 3             3             3            11\n",
      " 4             4             4           100\n",
      " 5             5             5           101\n",
      " 6             6             6           110\n",
      " 7             7             7           111\n",
      " 8            10             8          1000\n",
      " 9            11             9          1001\n",
      "10            12             a          1010\n",
      "11            13             b          1011\n",
      "12            14             c          1100\n",
      "13            15             d          1101\n",
      "14            16             e          1110\n",
      "15            17             f          1111\n",
      "16            20            10         10000\n",
      "17            21            11         10001\n",
      "18            22            12         10010\n",
      "19            23            13         10011\n",
      "20            24            14         10100\n",
      "21            25            15         10101\n",
      "22            26            16         10110\n",
      "23            27            17         10111\n",
      "24            30            18         11000\n"
     ]
    }
   ],
   "source": [
    "sayı_sistemi = [\"onlu\",\"sekizli\",\"onaltılı\",\"ikili\"]\n",
    "\n",
    "print((\"{:12} \"*len(sayı_sistemi)).format(*sayı_sistemi))\n",
    "\n",
    "for i in range(25):\n",
    "    print(\"{0:2}  {0:12o}  {0:12x}  {0:12b}\".format(i))"
   ]
  },
  {
   "cell_type": "code",
   "execution_count": 10,
   "id": "5fc4956f",
   "metadata": {},
   "outputs": [
    {
     "name": "stdout",
     "output_type": "stream",
     "text": [
      "onlu         sekizli      onaltılı     ikili        \n",
      "57            71            39        111001\n"
     ]
    }
   ],
   "source": [
    "\n",
    "sayı_sistemi = [\"onlu\",\"sekizli\",\"onaltılı\",\"ikili\"]\n",
    "\n",
    "print((\"{:12} \"*len(sayı_sistemi)).format(*sayı_sistemi))\n",
    "\n",
    "print(\"{0:}  {0:12o}  {0:12x}  {0:12b}\".format(57))"
   ]
  },
  {
   "cell_type": "code",
   "execution_count": 19,
   "id": "14184975",
   "metadata": {},
   "outputs": [
    {
     "name": "stdout",
     "output_type": "stream",
     "text": [
      "30\n"
     ]
    }
   ],
   "source": [
    "print(\"{0:o}\".format(24))"
   ]
  },
  {
   "cell_type": "code",
   "execution_count": 20,
   "id": "9821b839",
   "metadata": {},
   "outputs": [
    {
     "name": "stdout",
     "output_type": "stream",
     "text": [
      "18\n"
     ]
    }
   ],
   "source": [
    "print(\"{0:x}\".format(24))"
   ]
  },
  {
   "cell_type": "code",
   "execution_count": 21,
   "id": "5976db7c",
   "metadata": {},
   "outputs": [
    {
     "name": "stdout",
     "output_type": "stream",
     "text": [
      "11000\n"
     ]
    }
   ],
   "source": [
    "print(\"{0:b}\".format(24))"
   ]
  },
  {
   "cell_type": "code",
   "execution_count": 22,
   "id": "1c95e3d2",
   "metadata": {},
   "outputs": [
    {
     "data": {
      "text/plain": [
       "'0b10101'"
      ]
     },
     "execution_count": 22,
     "metadata": {},
     "output_type": "execute_result"
    }
   ],
   "source": [
    "bin(21) #ikili tabana"
   ]
  },
  {
   "cell_type": "code",
   "execution_count": 23,
   "id": "e4d8f1b9",
   "metadata": {},
   "outputs": [
    {
     "data": {
      "text/plain": [
       "'0x15'"
      ]
     },
     "execution_count": 23,
     "metadata": {},
     "output_type": "execute_result"
    }
   ],
   "source": [
    "hex(21) #0naltılı tabana"
   ]
  },
  {
   "cell_type": "code",
   "execution_count": 24,
   "id": "55cc40ce",
   "metadata": {},
   "outputs": [
    {
     "data": {
      "text/plain": [
       "'0o25'"
      ]
     },
     "execution_count": 24,
     "metadata": {},
     "output_type": "execute_result"
    }
   ],
   "source": [
    "oct(21)  # sekizli tabana cevirir"
   ]
  },
  {
   "cell_type": "code",
   "execution_count": 12,
   "id": "b4d4bd3d",
   "metadata": {},
   "outputs": [
    {
     "data": {
      "text/plain": [
       "21"
      ]
     },
     "execution_count": 12,
     "metadata": {},
     "output_type": "execute_result"
    }
   ],
   "source": [
    "int(\"0b10101\",2)  # tabanını ve verdiğimiz sayısını onluk tabana çeviriyor"
   ]
  },
  {
   "cell_type": "code",
   "execution_count": 23,
   "id": "39820bc1",
   "metadata": {},
   "outputs": [
    {
     "name": "stdout",
     "output_type": "stream",
     "text": [
      "0 0b0 0x0\n",
      "1 0b1 0x1\n",
      "2 0b10 0x2\n",
      "3 0b11 0x3\n",
      "4 0b100 0x4\n",
      "5 0b101 0x5\n",
      "6 0b110 0x6\n",
      "7 0b111 0x7\n",
      "8 0b1000 0x8\n",
      "9 0b1001 0x9\n",
      "10 0b1010 0xa\n",
      "11 0b1011 0xb\n",
      "12 0b1100 0xc\n",
      "13 0b1101 0xd\n",
      "14 0b1110 0xe\n",
      "15 0b1111 0xf\n",
      "16 0b10000 0x10\n",
      "17 0b10001 0x11\n",
      "18 0b10010 0x12\n",
      "19 0b10011 0x13\n",
      "20 0b10100 0x14\n",
      "21 0b10101 0x15\n",
      "22 0b10110 0x16\n",
      "23 0b10111 0x17\n",
      "24 0b11000 0x18\n"
     ]
    }
   ],
   "source": [
    "for i in range(25):\n",
    "    print(i,         bin(i),          hex(i))"
   ]
  },
  {
   "cell_type": "code",
   "execution_count": 34,
   "id": "06f019bf",
   "metadata": {},
   "outputs": [
    {
     "data": {
      "text/plain": [
       "32"
      ]
     },
     "execution_count": 34,
     "metadata": {},
     "output_type": "execute_result"
    }
   ],
   "source": [
    "pow(2,5)"
   ]
  },
  {
   "cell_type": "code",
   "execution_count": 37,
   "id": "3dc467e4",
   "metadata": {},
   "outputs": [
    {
     "data": {
      "text/plain": [
       "2"
      ]
     },
     "execution_count": 37,
     "metadata": {},
     "output_type": "execute_result"
    }
   ],
   "source": [
    "round(2,9)"
   ]
  },
  {
   "cell_type": "code",
   "execution_count": 38,
   "id": "28f41bdf",
   "metadata": {},
   "outputs": [
    {
     "data": {
      "text/plain": [
       "(30, 5)"
      ]
     },
     "execution_count": 38,
     "metadata": {},
     "output_type": "execute_result"
    }
   ],
   "source": [
    "divmod(275,9)"
   ]
  },
  {
   "cell_type": "code",
   "execution_count": 7,
   "id": "95d0f0f1",
   "metadata": {},
   "outputs": [
    {
     "name": "stdout",
     "output_type": "stream",
     "text": [
      "onlu       sekizli    onaltılı   ikili     \n"
     ]
    }
   ],
   "source": [
    "sayı_sistemi = [\"onlu\",\"sekizli\",\"onaltılı\",\"ikili\"]\n",
    "\n",
    "print(\"{:10} {:10} {:10} {:10}\".format(*sayı_sistemi))"
   ]
  },
  {
   "cell_type": "code",
   "execution_count": 24,
   "id": "d637f63f",
   "metadata": {},
   "outputs": [
    {
     "data": {
      "text/plain": [
       "1"
      ]
     },
     "execution_count": 24,
     "metadata": {},
     "output_type": "execute_result"
    }
   ],
   "source": [
    "7%3"
   ]
  },
  {
   "cell_type": "code",
   "execution_count": 25,
   "id": "b5e5c01b",
   "metadata": {},
   "outputs": [
    {
     "data": {
      "text/plain": [
       "2"
      ]
     },
     "execution_count": 25,
     "metadata": {},
     "output_type": "execute_result"
    }
   ],
   "source": [
    "7//3"
   ]
  },
  {
   "cell_type": "code",
   "execution_count": null,
   "id": "1738594f",
   "metadata": {},
   "outputs": [],
   "source": []
  }
 ],
 "metadata": {
  "kernelspec": {
   "display_name": "Python 3 (ipykernel)",
   "language": "python",
   "name": "python3"
  },
  "language_info": {
   "codemirror_mode": {
    "name": "ipython",
    "version": 3
   },
   "file_extension": ".py",
   "mimetype": "text/x-python",
   "name": "python",
   "nbconvert_exporter": "python",
   "pygments_lexer": "ipython3",
   "version": "3.9.7"
  }
 },
 "nbformat": 4,
 "nbformat_minor": 5
}

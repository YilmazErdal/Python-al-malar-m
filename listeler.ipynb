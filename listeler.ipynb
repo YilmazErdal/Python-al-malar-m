{
 "cells": [
  {
   "cell_type": "code",
   "execution_count": 1,
   "id": "495f56df",
   "metadata": {},
   "outputs": [
    {
     "name": "stdout",
     "output_type": "stream",
     "text": [
      "alielemanı bir <class 'str'> tipindedir\n",
      "velielemanı bir <class 'str'> tipindedir\n",
      "ismailelemanı bir <class 'str'> tipindedir\n",
      "23elemanı bir <class 'int'> tipindedir\n",
      "56elemanı bir <class 'int'> tipindedir\n",
      "899elemanı bir <class 'int'> tipindedir\n",
      "['kenan', 'ismet', 321, 567]elemanı bir <class 'list'> tipindedir\n"
     ]
    }
   ],
   "source": [
    "liste = [\"ali\",\"veli\",\"ismail\",23,56,899,[\"kenan\",\"ismet\",321,567]]\n",
    "\n",
    "for eleman in liste:\n",
    "    print(\"{}elemanı bir {} tipindedir\".format(eleman, type(eleman)))"
   ]
  },
  {
   "cell_type": "code",
   "execution_count": 3,
   "id": "17763b1b",
   "metadata": {},
   "outputs": [
    {
     "name": "stdout",
     "output_type": "stream",
     "text": [
      "__add__\n",
      "__class__\n",
      "__contains__\n",
      "__delattr__\n",
      "__dir__\n",
      "__doc__\n",
      "__eq__\n",
      "__format__\n",
      "__ge__\n",
      "__getattribute__\n",
      "__getitem__\n",
      "__getnewargs__\n",
      "__gt__\n",
      "__hash__\n",
      "__init__\n",
      "__init_subclass__\n",
      "__iter__\n",
      "__le__\n",
      "__len__\n",
      "__lt__\n",
      "__mod__\n",
      "__mul__\n",
      "__ne__\n",
      "__new__\n",
      "__reduce__\n",
      "__reduce_ex__\n",
      "__repr__\n",
      "__rmod__\n",
      "__rmul__\n",
      "__setattr__\n",
      "__sizeof__\n",
      "__str__\n",
      "__subclasshook__\n",
      "capitalize\n",
      "casefold\n",
      "center\n",
      "count\n",
      "encode\n",
      "endswith\n",
      "expandtabs\n",
      "find\n",
      "format\n",
      "format_map\n",
      "index\n",
      "isalnum\n",
      "isalpha\n",
      "isascii\n",
      "isdecimal\n",
      "isdigit\n",
      "isidentifier\n",
      "islower\n",
      "isnumeric\n",
      "isprintable\n",
      "isspace\n",
      "istitle\n",
      "isupper\n",
      "join\n",
      "ljust\n",
      "lower\n",
      "lstrip\n",
      "maketrans\n",
      "partition\n",
      "removeprefix\n",
      "removesuffix\n",
      "replace\n",
      "rfind\n",
      "rindex\n",
      "rjust\n",
      "rpartition\n",
      "rsplit\n",
      "rstrip\n",
      "split\n",
      "splitlines\n",
      "startswith\n",
      "strip\n",
      "swapcase\n",
      "title\n",
      "translate\n",
      "upper\n",
      "zfill\n"
     ]
    }
   ],
   "source": [
    "for i in dir(str):\n",
    "    print(i)"
   ]
  },
  {
   "cell_type": "code",
   "execution_count": 6,
   "id": "da541602",
   "metadata": {},
   "outputs": [
    {
     "name": "stdout",
     "output_type": "stream",
     "text": [
      "1 2 3 4 5 6 7 8 9\n",
      "15 16 17 18 19 20 21 22 23 24 25 26 27 28 29 30 31 32 33 34 35 36 37 38 39 40 41 42 43 44 45 46 47 48 49 50 51 52 53 54 55 56 57 58 59\n",
      "5 6 7 8 9 10 11 12 13 14 15 16 17 18 19 20 21 22 23 24\n"
     ]
    }
   ],
   "source": [
    "sayılar = [[1,10],[15,60],[5,25]]\n",
    "\n",
    "for i in sayılar:\n",
    "    print(*range(*i))"
   ]
  },
  {
   "cell_type": "code",
   "execution_count": 9,
   "id": "6c914573",
   "metadata": {},
   "outputs": [
    {
     "name": "stdout",
     "output_type": "stream",
     "text": [
      "['s', 'a', 'd', 's', 'l', 'm', 'd', 'f', 'k', 'l', 'g', 'n', 'o', 'r', 'g', 'j', 'h', 'o', 'k', 'p', 'h', 'o', 'e', 't', 'j', 'p']\n"
     ]
    }
   ],
   "source": [
    "liste1 = list(\"sadslmdfklgnorgjhokphoetjp\")\n",
    "print(liste1)"
   ]
  },
  {
   "cell_type": "code",
   "execution_count": 11,
   "id": "c47e0d19",
   "metadata": {},
   "outputs": [
    {
     "name": "stdout",
     "output_type": "stream",
     "text": [
      "s\n",
      "a\n",
      "d\n",
      "s\n",
      "l\n",
      "m\n",
      "d\n",
      "f\n",
      "k\n",
      "l\n",
      "g\n",
      "n\n",
      "o\n",
      "r\n",
      "g\n",
      "j\n",
      "h\n",
      "o\n",
      "k\n",
      "p\n",
      "h\n",
      "o\n",
      "e\n",
      "t\n",
      "j\n",
      "p\n"
     ]
    }
   ],
   "source": [
    "for i in liste1:\n",
    "    print(i)"
   ]
  },
  {
   "cell_type": "code",
   "execution_count": 12,
   "id": "435d072a",
   "metadata": {},
   "outputs": [
    {
     "data": {
      "text/plain": [
       "['ali', 'veli', 'ismail', 23]"
      ]
     },
     "execution_count": 12,
     "metadata": {},
     "output_type": "execute_result"
    }
   ],
   "source": [
    "liste[0:4]"
   ]
  },
  {
   "cell_type": "code",
   "execution_count": 14,
   "id": "78398c02",
   "metadata": {},
   "outputs": [
    {
     "data": {
      "text/plain": [
       "[['kenan', 'ismet', 321, 567], 899, 56, 23, 'ismail', 'veli', 'ali']"
      ]
     },
     "execution_count": 14,
     "metadata": {},
     "output_type": "execute_result"
    }
   ],
   "source": [
    "liste[::-1]"
   ]
  },
  {
   "cell_type": "code",
   "execution_count": 15,
   "id": "f8f01b42",
   "metadata": {},
   "outputs": [
    {
     "data": {
      "text/plain": [
       "7"
      ]
     },
     "execution_count": 15,
     "metadata": {},
     "output_type": "execute_result"
    }
   ],
   "source": [
    "len(liste)"
   ]
  },
  {
   "cell_type": "code",
   "execution_count": 16,
   "id": "99f0f5a1",
   "metadata": {},
   "outputs": [
    {
     "data": {
      "text/plain": [
       "26"
      ]
     },
     "execution_count": 16,
     "metadata": {},
     "output_type": "execute_result"
    }
   ],
   "source": [
    "len(liste1)"
   ]
  },
  {
   "cell_type": "code",
   "execution_count": 19,
   "id": "fa296086",
   "metadata": {},
   "outputs": [
    {
     "data": {
      "text/plain": [
       "['s', 'a', 'd', 's', 'l', 'm', 'd', 'f', 'k']"
      ]
     },
     "execution_count": 19,
     "metadata": {},
     "output_type": "execute_result"
    }
   ],
   "source": [
    "liste1[0:9]"
   ]
  },
  {
   "cell_type": "code",
   "execution_count": 20,
   "id": "26779db3",
   "metadata": {},
   "outputs": [
    {
     "data": {
      "text/plain": [
       "'kenan'"
      ]
     },
     "execution_count": 20,
     "metadata": {},
     "output_type": "execute_result"
    }
   ],
   "source": [
    "liste[6][0]"
   ]
  },
  {
   "cell_type": "code",
   "execution_count": 21,
   "id": "e9fa2d03",
   "metadata": {},
   "outputs": [],
   "source": [
    "liste[6][0] = \"selim\""
   ]
  },
  {
   "cell_type": "code",
   "execution_count": 22,
   "id": "a5da352a",
   "metadata": {},
   "outputs": [
    {
     "data": {
      "text/plain": [
       "['ali', 'veli', 'ismail', 23, 56, 899, ['selim', 'ismet', 321, 567]]"
      ]
     },
     "execution_count": 22,
     "metadata": {},
     "output_type": "execute_result"
    }
   ],
   "source": [
    "liste"
   ]
  },
  {
   "cell_type": "code",
   "execution_count": 23,
   "id": "6bd75e4a",
   "metadata": {},
   "outputs": [],
   "source": [
    "liste[4] = 233"
   ]
  },
  {
   "cell_type": "code",
   "execution_count": 24,
   "id": "10ea9985",
   "metadata": {},
   "outputs": [
    {
     "data": {
      "text/plain": [
       "['ali', 'veli', 'ismail', 23, 233, 899, ['selim', 'ismet', 321, 567]]"
      ]
     },
     "execution_count": 24,
     "metadata": {},
     "output_type": "execute_result"
    }
   ],
   "source": [
    "liste"
   ]
  },
  {
   "cell_type": "code",
   "execution_count": 28,
   "id": "9b34b528",
   "metadata": {},
   "outputs": [],
   "source": [
    "liste += [\"akif\"]"
   ]
  },
  {
   "cell_type": "code",
   "execution_count": 26,
   "id": "b9df7aee",
   "metadata": {},
   "outputs": [
    {
     "data": {
      "text/plain": [
       "['ali', 'veli', 'ismail', 23, 233, 899, ['selim', 'ismet', 321, 567], 'akif']"
      ]
     },
     "execution_count": 26,
     "metadata": {},
     "output_type": "execute_result"
    }
   ],
   "source": [
    "liste"
   ]
  },
  {
   "cell_type": "code",
   "execution_count": 29,
   "id": "b5e64203",
   "metadata": {},
   "outputs": [],
   "source": [
    "yeni_liste = liste + liste1"
   ]
  },
  {
   "cell_type": "code",
   "execution_count": 30,
   "id": "b2983282",
   "metadata": {},
   "outputs": [
    {
     "data": {
      "text/plain": [
       "['ali',\n",
       " 'veli',\n",
       " 'ismail',\n",
       " 23,\n",
       " 233,\n",
       " 899,\n",
       " ['selim', 'ismet', 321, 567],\n",
       " 'akif',\n",
       " 'akif',\n",
       " 's',\n",
       " 'a',\n",
       " 'd',\n",
       " 's',\n",
       " 'l',\n",
       " 'm',\n",
       " 'd',\n",
       " 'f',\n",
       " 'k',\n",
       " 'l',\n",
       " 'g',\n",
       " 'n',\n",
       " 'o',\n",
       " 'r',\n",
       " 'g',\n",
       " 'j',\n",
       " 'h',\n",
       " 'o',\n",
       " 'k',\n",
       " 'p',\n",
       " 'h',\n",
       " 'o',\n",
       " 'e',\n",
       " 't',\n",
       " 'j',\n",
       " 'p']"
      ]
     },
     "execution_count": 30,
     "metadata": {},
     "output_type": "execute_result"
    }
   ],
   "source": [
    "yeni_liste"
   ]
  },
  {
   "cell_type": "code",
   "execution_count": null,
   "id": "97bbc7bd",
   "metadata": {},
   "outputs": [],
   "source": []
  }
 ],
 "metadata": {
  "kernelspec": {
   "display_name": "Python 3 (ipykernel)",
   "language": "python",
   "name": "python3"
  },
  "language_info": {
   "codemirror_mode": {
    "name": "ipython",
    "version": 3
   },
   "file_extension": ".py",
   "mimetype": "text/x-python",
   "name": "python",
   "nbconvert_exporter": "python",
   "pygments_lexer": "ipython3",
   "version": "3.9.7"
  }
 },
 "nbformat": 4,
 "nbformat_minor": 5
}

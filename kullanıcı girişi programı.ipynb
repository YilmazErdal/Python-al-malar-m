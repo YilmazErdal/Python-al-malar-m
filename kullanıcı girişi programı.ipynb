{
 "cells": [
  {
   "cell_type": "code",
   "execution_count": 1,
   "id": "ca9d7f65",
   "metadata": {},
   "outputs": [
    {
     "name": "stdout",
     "output_type": "stream",
     "text": [
      " Kullanıcı Giriş Programı \n",
      "Kullanıcı Adı:erdal\n",
      "Parola:1234\n",
      "Sisteme başarıyla giriş yaptınız.\n"
     ]
    }
   ],
   "source": [
    "print(\" Kullanıcı Giriş Programı \")\n",
    "       \n",
    "stm_kullanıcı = \"erdal\"\n",
    "stm_parola = \"1234\"\n",
    "\n",
    "giris_hakkı = 4\n",
    "      \n",
    "while True:\n",
    "      \n",
    "    kullanıcı_adı = input(\"Kullanıcı Adı:\")\n",
    "    parola = input(\"Parola:\")\n",
    "      \n",
    "    if (kullanıcı_adı!= stm_kullanıcı and parola == stm_parola):\n",
    "        print(\"Kullanıcı adını yanlış girdiniz.\")\n",
    "        giris_hakkı-=1\n",
    "    elif (kullanıcı_adı==stm_kullanıcı and parola != stm_parola):\n",
    "        print(\"Parolayı yanlış girdiniz.\")\n",
    "        giris_hakkı -=1\n",
    "    elif (kullanıcı_adı != stm_kullanıcı and parola != stm_parola):\n",
    "        print(\"Kullanıcı adı ve Parolayı yanlış girdiniz.\")\n",
    "        giris_hakkı -=1\n",
    "    else:\n",
    "        print(\"Sisteme başarıyla giriş yaptınız.\")\n",
    "        break  \n",
    "    if (giris_hakkı==0):\n",
    "        print(\"Giriş hakkını doldurdunuz.\")\n",
    "        break\n",
    "      "
   ]
  },
  {
   "cell_type": "code",
   "execution_count": null,
   "id": "c157bf3f",
   "metadata": {},
   "outputs": [],
   "source": [
    "print(\"\"\"************************\n",
    "\n",
    "Faktöriyel Bulma programı\n",
    "\n",
    "************************\"\"\")\n",
    "\n",
    "while True:\n",
    "    sayı = input(\"Sayı:\")\n",
    "    if (sayı == \"q\"):\n",
    "        print(\"Program sonlandırılıyor\")\n",
    "        break\n",
    "    else:\n",
    "        sayı = int(sayı)\n",
    "        faktöriyel = 1\n",
    "        for i in range(2,sayı+1):\n",
    "            faktöriyel*=i\n",
    "            print(faktöriyel)    "
   ]
  },
  {
   "cell_type": "code",
   "execution_count": 1,
   "id": "b61393de",
   "metadata": {},
   "outputs": [
    {
     "name": "stdout",
     "output_type": "stream",
     "text": [
      "************************\n",
      "\n",
      "Faktöriyel Bulma programı\n",
      "\n",
      "************************\n",
      "Sayı:7\n",
      "2\n",
      "6\n",
      "24\n",
      "120\n",
      "720\n",
      "5040\n",
      "Sayı:q\n",
      "Program sonlandırılıyor\n"
     ]
    }
   ],
   "source": [
    "print(\"\"\"************************\n",
    "\n",
    "Faktöriyel Bulma programı\n",
    "\n",
    "************************\"\"\")\n",
    "\n",
    "while True:\n",
    "    sayı = input(\"Sayı:\")\n",
    "    if (sayı == \"q\"):\n",
    "        print(\"Program sonlandırılıyor\")\n",
    "        break\n",
    "    else:\n",
    "        sayı = int(sayı)\n",
    "        faktöriyel = 1\n",
    "        for i in range(2,sayı+1):\n",
    "            faktöriyel*=i\n",
    "            print(faktöriyel)"
   ]
  }
 ],
 "metadata": {
  "kernelspec": {
   "display_name": "Python 3 (ipykernel)",
   "language": "python",
   "name": "python3"
  },
  "language_info": {
   "codemirror_mode": {
    "name": "ipython",
    "version": 3
   },
   "file_extension": ".py",
   "mimetype": "text/x-python",
   "name": "python",
   "nbconvert_exporter": "python",
   "pygments_lexer": "ipython3",
   "version": "3.9.7"
  }
 },
 "nbformat": 4,
 "nbformat_minor": 5
}

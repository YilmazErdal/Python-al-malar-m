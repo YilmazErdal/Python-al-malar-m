{
 "cells": [
  {
   "cell_type": "code",
   "execution_count": 7,
   "id": "0e1e518d",
   "metadata": {},
   "outputs": [],
   "source": [
    "file = open(\"bilgiler.txt\",\"r\",encoding=\"utf-8\")"
   ]
  },
  {
   "cell_type": "code",
   "execution_count": 8,
   "id": "9deb24be",
   "metadata": {},
   "outputs": [
    {
     "data": {
      "text/plain": [
       "'Arkadaşlara bol selamlarmerhaba\\nNasılsınız arkadaşlar'"
      ]
     },
     "execution_count": 8,
     "metadata": {},
     "output_type": "execute_result"
    }
   ],
   "source": [
    "file.read()"
   ]
  },
  {
   "cell_type": "code",
   "execution_count": 9,
   "id": "bb8a4cce",
   "metadata": {},
   "outputs": [],
   "source": [
    "file.close()"
   ]
  },
  {
   "cell_type": "code",
   "execution_count": 11,
   "id": "a7b04bce",
   "metadata": {},
   "outputs": [
    {
     "name": "stdout",
     "output_type": "stream",
     "text": [
      "Arkadaşlara bol selamlarmerhaba\n",
      "Nasılsınız arkadaşlar"
     ]
    }
   ],
   "source": [
    "file = open(\"bilgiler.txt\",\"r\",encoding=\"utf-8\")\n",
    "\n",
    "for i in file:\n",
    "    print(i, end = \"\")\n",
    "file.close()"
   ]
  },
  {
   "cell_type": "code",
   "execution_count": 14,
   "id": "57d7b048",
   "metadata": {},
   "outputs": [
    {
     "name": "stdout",
     "output_type": "stream",
     "text": [
      "Dosyanın içeriği:\n",
      "Arkadaşlara bol selamlarmerhaba\n",
      "Nasılsınız arkadaşlar\n"
     ]
    }
   ],
   "source": [
    "file = open(\"bilgiler.txt\",\"r\",encoding=\"utf-8\")\n",
    "\n",
    "içerik = file.read()\n",
    "print(\"Dosyanın içeriği:\")\n",
    "print(içerik)"
   ]
  },
  {
   "cell_type": "code",
   "execution_count": 15,
   "id": "95aa239d",
   "metadata": {},
   "outputs": [
    {
     "name": "stdout",
     "output_type": "stream",
     "text": [
      "Arkadaşlara bol selamlarmerhaba\n",
      "\n",
      "Nasılsınız arkadaşlar\n"
     ]
    }
   ],
   "source": [
    "file = open(\"bilgiler.txt\",\"r\",encoding=\"utf-8\")\n",
    "print(file.readline())\n",
    "print(file.readline())\n",
    "\n",
    "file.close()"
   ]
  },
  {
   "cell_type": "code",
   "execution_count": 16,
   "id": "0b4432a0",
   "metadata": {},
   "outputs": [
    {
     "name": "stdout",
     "output_type": "stream",
     "text": [
      "['Arkadaşlara bol selamlarmerhaba\\n', 'Nasılsınız arkadaşlar']\n"
     ]
    }
   ],
   "source": [
    "file = open(\"bilgiler.txt\",\"r\",encoding=\"utf-8\")\n",
    "\n",
    "liste = file.readlines()\n",
    "print(liste)\n",
    "file.close()"
   ]
  },
  {
   "cell_type": "code",
   "execution_count": 20,
   "id": "fa09b258",
   "metadata": {},
   "outputs": [
    {
     "name": "stdout",
     "output_type": "stream",
     "text": [
      "Arkadaşlara bol selamlarmerhaba\n",
      "\n",
      "Nasılsınız arkadaşlar\n",
      "\n",
      "merhaba\n",
      "\n",
      "Bol şanslar herkese\n"
     ]
    }
   ],
   "source": [
    "with open(\"bilgiler.txt\",\"r\",encoding=\"utf-8\") as file:\n",
    "          for i in file:\n",
    "             print(i)"
   ]
  },
  {
   "cell_type": "code",
   "execution_count": 22,
   "id": "cbfd04a2",
   "metadata": {},
   "outputs": [
    {
     "name": "stdout",
     "output_type": "stream",
     "text": [
      "0\n"
     ]
    }
   ],
   "source": [
    "with open(\"bilgiler.txt\",\"r\",encoding=\"utf-8\") as file:\n",
    "    print(file.tell())\n",
    "          "
   ]
  },
  {
   "cell_type": "code",
   "execution_count": 23,
   "id": "46a89f2e",
   "metadata": {},
   "outputs": [
    {
     "name": "stdout",
     "output_type": "stream",
     "text": [
      "21\n"
     ]
    }
   ],
   "source": [
    "with open(\"bilgiler.txt\",\"r\",encoding=\"utf-8\") as file:\n",
    "    print(file.seek(21))"
   ]
  },
  {
   "cell_type": "code",
   "execution_count": 24,
   "id": "8bac4872",
   "metadata": {},
   "outputs": [
    {
     "name": "stdout",
     "output_type": "stream",
     "text": [
      "selamlarmer\n"
     ]
    }
   ],
   "source": [
    "with open(\"bilgiler.txt\",\"r\",encoding=\"utf-8\") as file:\n",
    "    file.seek(17)\n",
    "    içerik = file.read(11)\n",
    "    print(içerik)"
   ]
  },
  {
   "cell_type": "code",
   "execution_count": 26,
   "id": "fc81685f",
   "metadata": {},
   "outputs": [
    {
     "name": "stdout",
     "output_type": "stream",
     "text": [
      "Arkadaşlara bol selamlarmerhaba\n",
      "Nasılsınız arkadaşlar\n",
      "merhaba\n",
      "Bol şanslar herkese\n"
     ]
    }
   ],
   "source": [
    "with open(\"bilgiler.txt\",\"r+\",encoding=\"utf-8\") as file:\n",
    "    print(file.read())"
   ]
  },
  {
   "cell_type": "code",
   "execution_count": 1,
   "id": "4bacbed5",
   "metadata": {},
   "outputs": [],
   "source": [
    "with open(\"bilgiler.txt\",\"a\",encoding=\"utf-8\") as file:\n",
    "    file.write(\"\\nİşler nasıl gidiyor\")"
   ]
  },
  {
   "cell_type": "code",
   "execution_count": null,
   "id": "55db61e0",
   "metadata": {},
   "outputs": [],
   "source": []
  }
 ],
 "metadata": {
  "kernelspec": {
   "display_name": "Python 3 (ipykernel)",
   "language": "python",
   "name": "python3"
  },
  "language_info": {
   "codemirror_mode": {
    "name": "ipython",
    "version": 3
   },
   "file_extension": ".py",
   "mimetype": "text/x-python",
   "name": "python",
   "nbconvert_exporter": "python",
   "pygments_lexer": "ipython3",
   "version": "3.9.7"
  }
 },
 "nbformat": 4,
 "nbformat_minor": 5
}

{
 "cells": [
  {
   "cell_type": "code",
   "execution_count": 1,
   "id": "bcc575d1",
   "metadata": {},
   "outputs": [
    {
     "data": {
      "text/plain": [
       "11.0"
      ]
     },
     "execution_count": 1,
     "metadata": {},
     "output_type": "execute_result"
    }
   ],
   "source": [
    "((10**2)//3)/3"
   ]
  },
  {
   "cell_type": "code",
   "execution_count": 2,
   "id": "5a2d6532",
   "metadata": {},
   "outputs": [
    {
     "data": {
      "text/plain": [
       "'Sedat'"
      ]
     },
     "execution_count": 2,
     "metadata": {},
     "output_type": "execute_result"
    }
   ],
   "source": [
    "'Sedat'"
   ]
  },
  {
   "cell_type": "code",
   "execution_count": 3,
   "id": "9a149afe",
   "metadata": {},
   "outputs": [
    {
     "data": {
      "text/plain": [
       "\"Erdal'ın dersi var\""
      ]
     },
     "execution_count": 3,
     "metadata": {},
     "output_type": "execute_result"
    }
   ],
   "source": [
    "'Erdal\\'ın dersi var'"
   ]
  },
  {
   "cell_type": "code",
   "execution_count": 4,
   "id": "bfda0af6",
   "metadata": {},
   "outputs": [],
   "source": [
    "a='Erdal\\'ın dersi var'"
   ]
  },
  {
   "cell_type": "code",
   "execution_count": 5,
   "id": "6d5ea09c",
   "metadata": {},
   "outputs": [
    {
     "data": {
      "text/plain": [
       "\"'\""
      ]
     },
     "execution_count": 5,
     "metadata": {},
     "output_type": "execute_result"
    }
   ],
   "source": [
    "a[5]"
   ]
  },
  {
   "cell_type": "code",
   "execution_count": 6,
   "id": "9f19f8fb",
   "metadata": {},
   "outputs": [
    {
     "data": {
      "text/plain": [
       "'r'"
      ]
     },
     "execution_count": 6,
     "metadata": {},
     "output_type": "execute_result"
    }
   ],
   "source": [
    "a[-1]"
   ]
  },
  {
   "cell_type": "code",
   "execution_count": 7,
   "id": "96cd09ac",
   "metadata": {},
   "outputs": [
    {
     "data": {
      "text/plain": [
       "\"al'ın der\""
      ]
     },
     "execution_count": 7,
     "metadata": {},
     "output_type": "execute_result"
    }
   ],
   "source": [
    "a[3:12]"
   ]
  },
  {
   "cell_type": "code",
   "execution_count": 8,
   "id": "608c2284",
   "metadata": {},
   "outputs": [
    {
     "data": {
      "text/plain": [
       "'s'"
      ]
     },
     "execution_count": 8,
     "metadata": {},
     "output_type": "execute_result"
    }
   ],
   "source": [
    "a[12]"
   ]
  },
  {
   "cell_type": "code",
   "execution_count": 13,
   "id": "11474a39",
   "metadata": {},
   "outputs": [
    {
     "data": {
      "text/plain": [
       "'dn'"
      ]
     },
     "execution_count": 13,
     "metadata": {},
     "output_type": "execute_result"
    }
   ],
   "source": [
    "a[2:12:5]"
   ]
  },
  {
   "cell_type": "code",
   "execution_count": 14,
   "id": "ca2e9a3a",
   "metadata": {},
   "outputs": [
    {
     "data": {
      "text/plain": [
       "str"
      ]
     },
     "execution_count": 14,
     "metadata": {},
     "output_type": "execute_result"
    }
   ],
   "source": [
    "type(a)"
   ]
  },
  {
   "cell_type": "code",
   "execution_count": 16,
   "id": "2aefb5e8",
   "metadata": {},
   "outputs": [
    {
     "data": {
      "text/plain": [
       "['E',\n",
       " 'r',\n",
       " 'd',\n",
       " 'a',\n",
       " 'l',\n",
       " 'ı',\n",
       " 'n',\n",
       " ' ',\n",
       " 'a',\n",
       " 'y',\n",
       " 'a',\n",
       " 'k',\n",
       " 'k',\n",
       " 'a',\n",
       " 'b',\n",
       " 'ı',\n",
       " 's',\n",
       " 'ı']"
      ]
     },
     "execution_count": 16,
     "metadata": {},
     "output_type": "execute_result"
    }
   ],
   "source": [
    "liste = list('Erdalın ayakkabısı')\n",
    "liste"
   ]
  },
  {
   "cell_type": "code",
   "execution_count": 17,
   "id": "b8fab98a",
   "metadata": {},
   "outputs": [
    {
     "data": {
      "text/plain": [
       "18"
      ]
     },
     "execution_count": 17,
     "metadata": {},
     "output_type": "execute_result"
    }
   ],
   "source": [
    "len(liste)"
   ]
  },
  {
   "cell_type": "code",
   "execution_count": 19,
   "id": "24c9a1f8",
   "metadata": {},
   "outputs": [],
   "source": [
    "liste.append('r')"
   ]
  },
  {
   "cell_type": "code",
   "execution_count": 20,
   "id": "c54fd7af",
   "metadata": {},
   "outputs": [
    {
     "data": {
      "text/plain": [
       "['E',\n",
       " 'r',\n",
       " 'd',\n",
       " 'a',\n",
       " 'l',\n",
       " 'ı',\n",
       " 'n',\n",
       " ' ',\n",
       " 'a',\n",
       " 'y',\n",
       " 'a',\n",
       " 'k',\n",
       " 'k',\n",
       " 'a',\n",
       " 'b',\n",
       " 'ı',\n",
       " 's',\n",
       " 'ı',\n",
       " 'r']"
      ]
     },
     "execution_count": 20,
     "metadata": {},
     "output_type": "execute_result"
    }
   ],
   "source": [
    "liste"
   ]
  },
  {
   "cell_type": "code",
   "execution_count": 23,
   "id": "3d7917c2",
   "metadata": {},
   "outputs": [
    {
     "data": {
      "text/plain": [
       "'r'"
      ]
     },
     "execution_count": 23,
     "metadata": {},
     "output_type": "execute_result"
    }
   ],
   "source": [
    "liste.pop()"
   ]
  },
  {
   "cell_type": "code",
   "execution_count": 24,
   "id": "dee69341",
   "metadata": {},
   "outputs": [
    {
     "data": {
      "text/plain": [
       "['E',\n",
       " 'r',\n",
       " 'd',\n",
       " 'a',\n",
       " 'l',\n",
       " 'ı',\n",
       " 'n',\n",
       " ' ',\n",
       " 'a',\n",
       " 'y',\n",
       " 'a',\n",
       " 'k',\n",
       " 'k',\n",
       " 'a',\n",
       " 'b',\n",
       " 'ı',\n",
       " 's',\n",
       " 'ı']"
      ]
     },
     "execution_count": 24,
     "metadata": {},
     "output_type": "execute_result"
    }
   ],
   "source": [
    "liste"
   ]
  },
  {
   "cell_type": "code",
   "execution_count": 25,
   "id": "a878b721",
   "metadata": {},
   "outputs": [],
   "source": [
    "liste.sort()"
   ]
  },
  {
   "cell_type": "code",
   "execution_count": 26,
   "id": "2d3e52a3",
   "metadata": {},
   "outputs": [
    {
     "data": {
      "text/plain": [
       "[' ',\n",
       " 'E',\n",
       " 'a',\n",
       " 'a',\n",
       " 'a',\n",
       " 'a',\n",
       " 'b',\n",
       " 'd',\n",
       " 'k',\n",
       " 'k',\n",
       " 'l',\n",
       " 'n',\n",
       " 'r',\n",
       " 's',\n",
       " 'y',\n",
       " 'ı',\n",
       " 'ı',\n",
       " 'ı']"
      ]
     },
     "execution_count": 26,
     "metadata": {},
     "output_type": "execute_result"
    }
   ],
   "source": [
    "liste"
   ]
  },
  {
   "cell_type": "code",
   "execution_count": 28,
   "id": "705661ba",
   "metadata": {},
   "outputs": [],
   "source": [
    "liste.sort(reverse=True)"
   ]
  },
  {
   "cell_type": "code",
   "execution_count": 29,
   "id": "0621441e",
   "metadata": {},
   "outputs": [
    {
     "data": {
      "text/plain": [
       "['ı',\n",
       " 'ı',\n",
       " 'ı',\n",
       " 'y',\n",
       " 's',\n",
       " 'r',\n",
       " 'n',\n",
       " 'l',\n",
       " 'k',\n",
       " 'k',\n",
       " 'd',\n",
       " 'b',\n",
       " 'a',\n",
       " 'a',\n",
       " 'a',\n",
       " 'a',\n",
       " 'E',\n",
       " ' ']"
      ]
     },
     "execution_count": 29,
     "metadata": {},
     "output_type": "execute_result"
    }
   ],
   "source": [
    "liste"
   ]
  },
  {
   "cell_type": "code",
   "execution_count": 30,
   "id": "a3a3801e",
   "metadata": {},
   "outputs": [],
   "source": [
    "liste1 = [2,3,4]"
   ]
  },
  {
   "cell_type": "code",
   "execution_count": 31,
   "id": "a790bb26",
   "metadata": {},
   "outputs": [],
   "source": [
    "liste3 = liste+liste1"
   ]
  },
  {
   "cell_type": "code",
   "execution_count": 32,
   "id": "fcdb02af",
   "metadata": {},
   "outputs": [
    {
     "data": {
      "text/plain": [
       "['ı',\n",
       " 'ı',\n",
       " 'ı',\n",
       " 'y',\n",
       " 's',\n",
       " 'r',\n",
       " 'n',\n",
       " 'l',\n",
       " 'k',\n",
       " 'k',\n",
       " 'd',\n",
       " 'b',\n",
       " 'a',\n",
       " 'a',\n",
       " 'a',\n",
       " 'a',\n",
       " 'E',\n",
       " ' ',\n",
       " 2,\n",
       " 3,\n",
       " 4]"
      ]
     },
     "execution_count": 32,
     "metadata": {},
     "output_type": "execute_result"
    }
   ],
   "source": [
    "liste3"
   ]
  },
  {
   "cell_type": "code",
   "execution_count": 33,
   "id": "9899da35",
   "metadata": {},
   "outputs": [],
   "source": [
    "liste3[17]= 6"
   ]
  },
  {
   "cell_type": "code",
   "execution_count": 34,
   "id": "e4b4b3e7",
   "metadata": {},
   "outputs": [
    {
     "data": {
      "text/plain": [
       "['ı',\n",
       " 'ı',\n",
       " 'ı',\n",
       " 'y',\n",
       " 's',\n",
       " 'r',\n",
       " 'n',\n",
       " 'l',\n",
       " 'k',\n",
       " 'k',\n",
       " 'd',\n",
       " 'b',\n",
       " 'a',\n",
       " 'a',\n",
       " 'a',\n",
       " 'a',\n",
       " 'E',\n",
       " 6,\n",
       " 2,\n",
       " 3,\n",
       " 4]"
      ]
     },
     "execution_count": 34,
     "metadata": {},
     "output_type": "execute_result"
    }
   ],
   "source": [
    "liste3"
   ]
  },
  {
   "cell_type": "code",
   "execution_count": 35,
   "id": "dd271c07",
   "metadata": {},
   "outputs": [
    {
     "data": {
      "text/plain": [
       "4"
      ]
     },
     "execution_count": 35,
     "metadata": {},
     "output_type": "execute_result"
    }
   ],
   "source": [
    "liste3.pop()"
   ]
  },
  {
   "cell_type": "code",
   "execution_count": 38,
   "id": "353d02f1",
   "metadata": {},
   "outputs": [
    {
     "data": {
      "text/plain": [
       "6"
      ]
     },
     "execution_count": 38,
     "metadata": {},
     "output_type": "execute_result"
    }
   ],
   "source": [
    "liste3.pop(17)"
   ]
  },
  {
   "cell_type": "code",
   "execution_count": 41,
   "id": "8aa8cd28",
   "metadata": {},
   "outputs": [],
   "source": [
    "sözlük = {'sayı': 1, 'isim': 5, 'yer':9}"
   ]
  },
  {
   "cell_type": "code",
   "execution_count": 43,
   "id": "6e973997",
   "metadata": {},
   "outputs": [
    {
     "data": {
      "text/plain": [
       "dict_keys(['sayı', 'isim', 'yer'])"
      ]
     },
     "execution_count": 43,
     "metadata": {},
     "output_type": "execute_result"
    }
   ],
   "source": [
    "sözlük.keys()"
   ]
  },
  {
   "cell_type": "code",
   "execution_count": 45,
   "id": "4e337b91",
   "metadata": {},
   "outputs": [
    {
     "data": {
      "text/plain": [
       "dict_values([1, 5, 9])"
      ]
     },
     "execution_count": 45,
     "metadata": {},
     "output_type": "execute_result"
    }
   ],
   "source": [
    "sözlük.values()"
   ]
  },
  {
   "cell_type": "code",
   "execution_count": 46,
   "id": "8bc49ca3",
   "metadata": {},
   "outputs": [
    {
     "data": {
      "text/plain": [
       "dict_items([('sayı', 1), ('isim', 5), ('yer', 9)])"
      ]
     },
     "execution_count": 46,
     "metadata": {},
     "output_type": "execute_result"
    }
   ],
   "source": [
    "sözlük.items()"
   ]
  },
  {
   "cell_type": "code",
   "execution_count": 50,
   "id": "4ccdbc02",
   "metadata": {},
   "outputs": [
    {
     "data": {
      "text/plain": [
       "3"
      ]
     },
     "execution_count": 50,
     "metadata": {},
     "output_type": "execute_result"
    }
   ],
   "source": [
    "len(sözlük)"
   ]
  },
  {
   "cell_type": "code",
   "execution_count": 51,
   "id": "c18f48de",
   "metadata": {},
   "outputs": [
    {
     "name": "stdout",
     "output_type": "stream",
     "text": [
      "Bir sayı giriniz:23\n"
     ]
    },
    {
     "data": {
      "text/plain": [
       "'23'"
      ]
     },
     "execution_count": 51,
     "metadata": {},
     "output_type": "execute_result"
    }
   ],
   "source": [
    "input ('Bir sayı giriniz:')"
   ]
  },
  {
   "cell_type": "code",
   "execution_count": 53,
   "id": "e15031fa",
   "metadata": {},
   "outputs": [
    {
     "name": "stdout",
     "output_type": "stream",
     "text": [
      "Bir sayı giriniz:60\n"
     ]
    },
    {
     "data": {
      "text/plain": [
       "60"
      ]
     },
     "execution_count": 53,
     "metadata": {},
     "output_type": "execute_result"
    }
   ],
   "source": [
    "int(input('Bir sayı giriniz:'))"
   ]
  },
  {
   "cell_type": "code",
   "execution_count": 54,
   "id": "964874e1",
   "metadata": {},
   "outputs": [
    {
     "name": "stdout",
     "output_type": "stream",
     "text": [
      "Oyuncu Kayıt programı\n",
      "Oyuncunun adı:Erdal\n",
      "Oyuncunun Soyadı:Yılmaz\n",
      "Oyuncunun Takımı:FB\n",
      "Bilgiler Kaydediliyor....\n",
      "Oyuncu adı: Erdal\n",
      " Oyuncu Soyadı: Yılmaz\n",
      " Oyuncu Takımı: FB\n",
      "\n"
     ]
    }
   ],
   "source": [
    "print('Oyuncu Kayıt programı')\n",
    "\n",
    "ad = input('Oyuncunun adı:')\n",
    "soyad = input('Oyuncunun Soyadı:')\n",
    "takım = input('Oyuncunun Takımı:')\n",
    "\n",
    "bilgiler = [ad, soyad, takım]\n",
    "\n",
    "print('Bilgiler Kaydediliyor....')\n",
    "\n",
    "print('Oyuncu adı: {}\\n Oyuncu Soyadı: {}\\n Oyuncu Takımı: {}\\n'.format(ad,soyad,takım))"
   ]
  },
  {
   "cell_type": "code",
   "execution_count": 55,
   "id": "a26d08a6",
   "metadata": {},
   "outputs": [
    {
     "name": "stdout",
     "output_type": "stream",
     "text": [
      "Oyuncu Kayıt programı\n",
      "Oyuncunun adı:E\n",
      "Oyuncunun Soyadı:Y\n",
      "Oyuncunun Takımı:FB\n",
      "Bilgiler Kaydediliyor....\n",
      "Oyuncu adı: E\n",
      " Oyuncu Soyadı: Y\n",
      " Oyuncu Takımı: FB\n",
      "\n",
      "Bilgiler kaydedildi..\n"
     ]
    }
   ],
   "source": [
    "print('Oyuncu Kayıt programı')\n",
    "\n",
    "ad = input('Oyuncunun adı:')\n",
    "soyad = input('Oyuncunun Soyadı:')\n",
    "takım = input('Oyuncunun Takımı:')\n",
    "\n",
    "bilgiler = [ad, soyad, takım]\n",
    "\n",
    "print('Bilgiler Kaydediliyor....')\n",
    "\n",
    "print('Oyuncu adı: {}\\n Oyuncu Soyadı: {}\\n Oyuncu Takımı: {}\\n'.format(ad,soyad,takım))\n",
    "\n",
    "print('Bilgiler kaydedildi..')"
   ]
  },
  {
   "cell_type": "code",
   "execution_count": null,
   "id": "8c962b96",
   "metadata": {},
   "outputs": [],
   "source": []
  }
 ],
 "metadata": {
  "kernelspec": {
   "display_name": "Python 3 (ipykernel)",
   "language": "python",
   "name": "python3"
  },
  "language_info": {
   "codemirror_mode": {
    "name": "ipython",
    "version": 3
   },
   "file_extension": ".py",
   "mimetype": "text/x-python",
   "name": "python",
   "nbconvert_exporter": "python",
   "pygments_lexer": "ipython3",
   "version": "3.9.7"
  }
 },
 "nbformat": 4,
 "nbformat_minor": 5
}

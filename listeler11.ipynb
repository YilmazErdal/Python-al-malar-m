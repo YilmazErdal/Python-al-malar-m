{
 "cells": [
  {
   "cell_type": "code",
   "execution_count": 16,
   "id": "989db28a",
   "metadata": {},
   "outputs": [
    {
     "name": "stdout",
     "output_type": "stream",
     "text": [
      "seeewew\n"
     ]
    }
   ],
   "source": [
    "\n",
    "liste3 = \"sdkşbfdjhgpıerhgıeogıreoıowoıewbkjcvbm\"\n",
    "liste4 = \"vndşjgnrıohprtkjmlşföiömxxabanc\"\n",
    "kesişim = \"\"\n",
    "\n",
    "for i in liste3:\n",
    "    if not i in liste4:\n",
    "        kesişim += i\n",
    "print(kesişim)"
   ]
  },
  {
   "cell_type": "code",
   "execution_count": 6,
   "id": "0ab50f33",
   "metadata": {},
   "outputs": [
    {
     "name": "stdout",
     "output_type": "stream",
     "text": [
      "28\n",
      "32\n",
      "36\n",
      "40\n",
      "44\n",
      "48\n",
      "[28, 32, 36, 40, 44, 48]\n"
     ]
    }
   ],
   "source": [
    "liste1 = list(range(27,155))\n",
    "liste2 = list(range(0,50,4))\n",
    "ortak = []\n",
    "for i in liste1:\n",
    "    if i in liste2:\n",
    "        ortak.append(i)\n",
    "        print(i)\n",
    "print(ortak)"
   ]
  },
  {
   "cell_type": "code",
   "execution_count": 5,
   "id": "95c018fb",
   "metadata": {},
   "outputs": [
    {
     "name": "stdout",
     "output_type": "stream",
     "text": [
      "[27, 29, 30, 31, 33, 34, 35, 37, 38, 39, 41, 42, 43, 45, 46, 47, 49, 50, 51, 52, 53, 54, 55, 56, 57, 58, 59, 60, 61, 62, 63, 64, 65, 66, 67, 68, 69, 70, 71, 72, 73, 74, 75, 76, 77, 78, 79, 80, 81, 82, 83, 84, 85, 86, 87, 88, 89, 90, 91, 92, 93, 94, 95, 96, 97, 98, 99, 100, 101, 102, 103, 104, 105, 106, 107, 108, 109, 110, 111, 112, 113, 114, 115, 116, 117, 118, 119, 120, 121, 122, 123, 124, 125, 126, 127, 128, 129, 130, 131, 132, 133, 134, 135, 136, 137, 138, 139, 140, 141, 142, 143, 144, 145, 146, 147, 148, 149, 150, 151, 152, 153, 154]\n"
     ]
    }
   ],
   "source": [
    "fark = []\n",
    "for i in liste1:\n",
    "    if not i in liste2:\n",
    "        fark.append(i)\n",
    "print(fark)"
   ]
  },
  {
   "cell_type": "code",
   "execution_count": 13,
   "id": "e7d5c32e",
   "metadata": {},
   "outputs": [
    {
     "name": "stdout",
     "output_type": "stream",
     "text": [
      "0\n",
      "4\n",
      "8\n",
      "12\n",
      "16\n",
      "20\n",
      "24\n"
     ]
    }
   ],
   "source": [
    "for i in liste2:\n",
    "    if not i in liste1:\n",
    "        print(i)"
   ]
  },
  {
   "cell_type": "code",
   "execution_count": 8,
   "id": "30bca564",
   "metadata": {},
   "outputs": [
    {
     "name": "stdout",
     "output_type": "stream",
     "text": [
      "s\n",
      "e\n",
      "l\n",
      "a\n",
      "m\n",
      "l\n",
      "a\n",
      "r\n",
      "e\n",
      "y\n",
      "h\n",
      "a\n",
      "l\n",
      "k\n",
      "ı\n",
      "m\n"
     ]
    }
   ],
   "source": [
    "liste = \"selamlareyhalkım\"\n",
    "\n",
    "for i in liste:\n",
    "\n",
    "    print(i,sep=\",\")"
   ]
  },
  {
   "cell_type": "code",
   "execution_count": 6,
   "id": "11ccdb52",
   "metadata": {},
   "outputs": [
    {
     "name": "stdout",
     "output_type": "stream",
     "text": [
      "s\n",
      "e\n",
      "l\n",
      "a\n",
      "m\n",
      "l\n",
      "a\n",
      "r\n",
      "e\n",
      "y\n",
      "h\n",
      "a\n",
      "l\n",
      "k\n",
      "ı\n",
      "m\n"
     ]
    }
   ],
   "source": [
    "print(*liste, sep= \"\\n\")"
   ]
  },
  {
   "cell_type": "code",
   "execution_count": 8,
   "id": "7fbb19eb",
   "metadata": {},
   "outputs": [
    {
     "name": "stdout",
     "output_type": "stream",
     "text": [
      "6\n",
      "9\n",
      "12\n",
      "27\n",
      "0\n",
      "24\n",
      "24\n",
      "12\n",
      "21\n",
      "18\n",
      "15\n",
      "24\n"
     ]
    }
   ],
   "source": [
    "liste1 = \"234908847658\"\n",
    "\n",
    "for i in liste1:\n",
    "    print(int(i)*3)"
   ]
  },
  {
   "cell_type": "code",
   "execution_count": 10,
   "id": "39445aca",
   "metadata": {},
   "outputs": [
    {
     "name": "stdout",
     "output_type": "stream",
     "text": [
      "s\n",
      "e\n",
      "l\n",
      "a\n",
      "m\n",
      "l\n",
      "a\n",
      "r\n",
      "e\n",
      "y\n",
      "h\n",
      "a\n",
      "l\n",
      "k\n",
      "ı\n",
      "m\n"
     ]
    }
   ],
   "source": [
    "for i in range(len(liste)):\n",
    "    print(liste[i])\n",
    "\n",
    "    "
   ]
  },
  {
   "cell_type": "code",
   "execution_count": 11,
   "id": "caa99901",
   "metadata": {},
   "outputs": [
    {
     "data": {
      "text/plain": [
       "'s'"
      ]
     },
     "execution_count": 11,
     "metadata": {},
     "output_type": "execute_result"
    }
   ],
   "source": [
    "liste[0]"
   ]
  },
  {
   "cell_type": "code",
   "execution_count": 12,
   "id": "50fba3d9",
   "metadata": {},
   "outputs": [
    {
     "data": {
      "text/plain": [
       "16"
      ]
     },
     "execution_count": 12,
     "metadata": {},
     "output_type": "execute_result"
    }
   ],
   "source": [
    "len(liste)"
   ]
  },
  {
   "cell_type": "code",
   "execution_count": 14,
   "id": "202ce06f",
   "metadata": {},
   "outputs": [
    {
     "data": {
      "text/plain": [
       "'m'"
      ]
     },
     "execution_count": 14,
     "metadata": {},
     "output_type": "execute_result"
    }
   ],
   "source": [
    "liste[len(liste)-1]"
   ]
  },
  {
   "cell_type": "code",
   "execution_count": 16,
   "id": "d784913e",
   "metadata": {},
   "outputs": [
    {
     "name": "stdout",
     "output_type": "stream",
     "text": [
      "isminizi giriniz:Erdal\n",
      "İsminizin 1.ci harfi E dır\n",
      "İsminizin 2.ci harfi r dır\n",
      "İsminizin 3.ci harfi d dır\n",
      "İsminizin 4.ci harfi a dır\n",
      "İsminizin 5.ci harfi l dır\n"
     ]
    }
   ],
   "source": [
    "isim = input(\"isminizi giriniz:\")\n",
    "\n",
    "for i in range(len(isim)):\n",
    "    print(\"İsminizin {}.ci harfi {} dır\".format(i+1,isim[i]))"
   ]
  },
  {
   "cell_type": "code",
   "execution_count": 18,
   "id": "92efe469",
   "metadata": {},
   "outputs": [
    {
     "data": {
      "text/plain": [
       "'lr'"
      ]
     },
     "execution_count": 18,
     "metadata": {},
     "output_type": "execute_result"
    }
   ],
   "source": [
    "liste[5:9:2]"
   ]
  },
  {
   "cell_type": "code",
   "execution_count": 24,
   "id": "5e7e8507",
   "metadata": {},
   "outputs": [
    {
     "name": "stdout",
     "output_type": "stream",
     "text": [
      "ealry -\n",
      "39846 -\n",
      "aaaıa -\n"
     ]
    }
   ],
   "source": [
    "liste2 = \"kalabalılar\"\n",
    "\n",
    "\n",
    "for i in liste,liste1,liste2:\n",
    "    print(i[1:10:2],\"-\")\n",
    "    "
   ]
  },
  {
   "cell_type": "code",
   "execution_count": 25,
   "id": "abb22e0a",
   "metadata": {},
   "outputs": [
    {
     "data": {
      "text/plain": [
       "'ralılabalak'"
      ]
     },
     "execution_count": 25,
     "metadata": {},
     "output_type": "execute_result"
    }
   ],
   "source": [
    "liste2[::-1]"
   ]
  },
  {
   "cell_type": "code",
   "execution_count": 26,
   "id": "8b6b179c",
   "metadata": {},
   "outputs": [
    {
     "name": "stdout",
     "output_type": "stream",
     "text": [
      "m\n",
      "i\n",
      "d\n",
      "e\n",
      "m\n",
      "t\n",
      "e\n",
      "d\n",
      "a\n",
      "v\n",
      " \n",
      "r\n",
      "e\n",
      "l\n",
      "n\n",
      "ü\n",
      "g\n",
      " \n",
      "l\n",
      "e\n",
      "z\n",
      "ü\n",
      "g\n",
      " \n",
      "a\n",
      "h\n",
      "a\n",
      "d\n",
      " \n",
      "a\n",
      "n\n",
      "a\n",
      "S\n"
     ]
    }
   ],
   "source": [
    "for i in reversed(\"Sana daha güzel günler vadetmedim\"):\n",
    "    print(i)"
   ]
  },
  {
   "cell_type": "code",
   "execution_count": 27,
   "id": "ecd3471e",
   "metadata": {},
   "outputs": [
    {
     "data": {
      "text/plain": [
       "['a', 'a', 'a', 'a', 'b', 'k', 'l', 'l', 'l', 'r', 'ı']"
      ]
     },
     "execution_count": 27,
     "metadata": {},
     "output_type": "execute_result"
    }
   ],
   "source": [
    "sorted(liste2)"
   ]
  },
  {
   "cell_type": "code",
   "execution_count": 33,
   "id": "e80b5142",
   "metadata": {},
   "outputs": [
    {
     "name": "stdout",
     "output_type": "stream",
     "text": [
      "a.a.a.a.b.k.l.l.l.r.ı."
     ]
    }
   ],
   "source": [
    "for i in sorted(liste2):\n",
    "    print(i, end=\".\")"
   ]
  },
  {
   "cell_type": "code",
   "execution_count": 42,
   "id": "3dace2ed",
   "metadata": {},
   "outputs": [
    {
     "name": "stdout",
     "output_type": "stream",
     "text": [
      "24680\n",
      "13579\n"
     ]
    }
   ],
   "source": [
    "nesne =\"1234567890\"\n",
    "\n",
    "çift_sayılar = \"\"\n",
    "tek_sayılar = \"\"\n",
    "\n",
    "for i in nesne:\n",
    "    if int(i)%2==0:\n",
    "        çift_sayılar += i\n",
    "    else:\n",
    "        tek_sayılar += i\n",
    "print(çift_sayılar)\n",
    "print(tek_sayılar)\n",
    "        "
   ]
  },
  {
   "cell_type": "code",
   "execution_count": 46,
   "id": "001de3ab",
   "metadata": {},
   "outputs": [
    {
     "data": {
      "text/plain": [
       "<enumerate at 0x1b19fede380>"
      ]
     },
     "execution_count": 46,
     "metadata": {},
     "output_type": "execute_result"
    }
   ],
   "source": [
    "enumerate(liste)"
   ]
  },
  {
   "cell_type": "code",
   "execution_count": 47,
   "id": "f1c97c7d",
   "metadata": {},
   "outputs": [
    {
     "name": "stdout",
     "output_type": "stream",
     "text": [
      "(0, 's') (1, 'e') (2, 'l') (3, 'a') (4, 'm') (5, 'l') (6, 'a') (7, 'r') (8, 'e') (9, 'y') (10, 'h') (11, 'a') (12, 'l') (13, 'k') (14, 'ı') (15, 'm')\n"
     ]
    }
   ],
   "source": [
    "print(*enumerate(liste))"
   ]
  },
  {
   "cell_type": "code",
   "execution_count": 52,
   "id": "dbed3641",
   "metadata": {},
   "outputs": [
    {
     "name": "stdout",
     "output_type": "stream",
     "text": [
      "Help on class range in module builtins:\n",
      "\n",
      "class range(object)\n",
      " |  range(stop) -> range object\n",
      " |  range(start, stop[, step]) -> range object\n",
      " |  \n",
      " |  Return an object that produces a sequence of integers from start (inclusive)\n",
      " |  to stop (exclusive) by step.  range(i, j) produces i, i+1, i+2, ..., j-1.\n",
      " |  start defaults to 0, and stop is omitted!  range(4) produces 0, 1, 2, 3.\n",
      " |  These are exactly the valid indices for a list of 4 elements.\n",
      " |  When step is given, it specifies the increment (or decrement).\n",
      " |  \n",
      " |  Methods defined here:\n",
      " |  \n",
      " |  __bool__(self, /)\n",
      " |      self != 0\n",
      " |  \n",
      " |  __contains__(self, key, /)\n",
      " |      Return key in self.\n",
      " |  \n",
      " |  __eq__(self, value, /)\n",
      " |      Return self==value.\n",
      " |  \n",
      " |  __ge__(self, value, /)\n",
      " |      Return self>=value.\n",
      " |  \n",
      " |  __getattribute__(self, name, /)\n",
      " |      Return getattr(self, name).\n",
      " |  \n",
      " |  __getitem__(self, key, /)\n",
      " |      Return self[key].\n",
      " |  \n",
      " |  __gt__(self, value, /)\n",
      " |      Return self>value.\n",
      " |  \n",
      " |  __hash__(self, /)\n",
      " |      Return hash(self).\n",
      " |  \n",
      " |  __iter__(self, /)\n",
      " |      Implement iter(self).\n",
      " |  \n",
      " |  __le__(self, value, /)\n",
      " |      Return self<=value.\n",
      " |  \n",
      " |  __len__(self, /)\n",
      " |      Return len(self).\n",
      " |  \n",
      " |  __lt__(self, value, /)\n",
      " |      Return self<value.\n",
      " |  \n",
      " |  __ne__(self, value, /)\n",
      " |      Return self!=value.\n",
      " |  \n",
      " |  __reduce__(...)\n",
      " |      Helper for pickle.\n",
      " |  \n",
      " |  __repr__(self, /)\n",
      " |      Return repr(self).\n",
      " |  \n",
      " |  __reversed__(...)\n",
      " |      Return a reverse iterator.\n",
      " |  \n",
      " |  count(...)\n",
      " |      rangeobject.count(value) -> integer -- return number of occurrences of value\n",
      " |  \n",
      " |  index(...)\n",
      " |      rangeobject.index(value) -> integer -- return index of value.\n",
      " |      Raise ValueError if the value is not present.\n",
      " |  \n",
      " |  ----------------------------------------------------------------------\n",
      " |  Static methods defined here:\n",
      " |  \n",
      " |  __new__(*args, **kwargs) from builtins.type\n",
      " |      Create and return a new object.  See help(type) for accurate signature.\n",
      " |  \n",
      " |  ----------------------------------------------------------------------\n",
      " |  Data descriptors defined here:\n",
      " |  \n",
      " |  start\n",
      " |  \n",
      " |  step\n",
      " |  \n",
      " |  stop\n",
      "\n"
     ]
    }
   ],
   "source": [
    "help(range)"
   ]
  },
  {
   "cell_type": "code",
   "execution_count": 3,
   "id": "218d702d",
   "metadata": {},
   "outputs": [],
   "source": [
    "nesne = \"kardanadam\""
   ]
  },
  {
   "cell_type": "code",
   "execution_count": 4,
   "id": "a4a1533d",
   "metadata": {},
   "outputs": [],
   "source": [
    "nesne = nesne.upper()"
   ]
  },
  {
   "cell_type": "code",
   "execution_count": 5,
   "id": "b3ca0394",
   "metadata": {},
   "outputs": [
    {
     "data": {
      "text/plain": [
       "'KARDANADAM'"
      ]
     },
     "execution_count": 5,
     "metadata": {},
     "output_type": "execute_result"
    }
   ],
   "source": [
    "nesne"
   ]
  },
  {
   "cell_type": "code",
   "execution_count": 7,
   "id": "96b23714",
   "metadata": {},
   "outputs": [],
   "source": [
    "nesne = nesne.lower()"
   ]
  },
  {
   "cell_type": "code",
   "execution_count": 8,
   "id": "f8221d6c",
   "metadata": {},
   "outputs": [
    {
     "data": {
      "text/plain": [
       "'kardanadam'"
      ]
     },
     "execution_count": 8,
     "metadata": {},
     "output_type": "execute_result"
    }
   ],
   "source": [
    "nesne"
   ]
  },
  {
   "cell_type": "code",
   "execution_count": 1,
   "id": "6123faac",
   "metadata": {},
   "outputs": [],
   "source": [
    "iller = \"istanbul, izmir, içel, iznik\"\n",
    "\n",
    "iller = iller.replace(\"i\",\"İ\")"
   ]
  },
  {
   "cell_type": "code",
   "execution_count": 2,
   "id": "49c8c424",
   "metadata": {},
   "outputs": [
    {
     "data": {
      "text/plain": [
       "'İstanbul, İzmİr, İçel, İznİk'"
      ]
     },
     "execution_count": 2,
     "metadata": {},
     "output_type": "execute_result"
    }
   ],
   "source": [
    "iller"
   ]
  },
  {
   "cell_type": "code",
   "execution_count": 3,
   "id": "675604c2",
   "metadata": {},
   "outputs": [
    {
     "data": {
      "text/plain": [
       "'İSTANBUL, İZMİR, İÇEL, İZNİK'"
      ]
     },
     "execution_count": 3,
     "metadata": {},
     "output_type": "execute_result"
    }
   ],
   "source": [
    "iller.upper()"
   ]
  },
  {
   "cell_type": "code",
   "execution_count": 4,
   "id": "77f9298b",
   "metadata": {},
   "outputs": [
    {
     "data": {
      "text/plain": [
       "False"
      ]
     },
     "execution_count": 4,
     "metadata": {},
     "output_type": "execute_result"
    }
   ],
   "source": [
    "iller.islower()"
   ]
  },
  {
   "cell_type": "code",
   "execution_count": 5,
   "id": "09b69347",
   "metadata": {},
   "outputs": [
    {
     "data": {
      "text/plain": [
       "False"
      ]
     },
     "execution_count": 5,
     "metadata": {},
     "output_type": "execute_result"
    }
   ],
   "source": [
    "iller.isupper()"
   ]
  },
  {
   "cell_type": "code",
   "execution_count": 6,
   "id": "5fadcf8e",
   "metadata": {},
   "outputs": [],
   "source": [
    "ilçe = \"HORASAN\""
   ]
  },
  {
   "cell_type": "code",
   "execution_count": 7,
   "id": "bd9dbc06",
   "metadata": {},
   "outputs": [
    {
     "data": {
      "text/plain": [
       "True"
      ]
     },
     "execution_count": 7,
     "metadata": {},
     "output_type": "execute_result"
    }
   ],
   "source": [
    "ilçe.isupper()"
   ]
  },
  {
   "cell_type": "code",
   "execution_count": 8,
   "id": "84f873c8",
   "metadata": {},
   "outputs": [
    {
     "data": {
      "text/plain": [
       "['HORASAN']"
      ]
     },
     "execution_count": 8,
     "metadata": {},
     "output_type": "execute_result"
    }
   ],
   "source": [
    "ilçe.split()"
   ]
  },
  {
   "cell_type": "code",
   "execution_count": 9,
   "id": "252f1cb7",
   "metadata": {},
   "outputs": [
    {
     "name": "stdout",
     "output_type": "stream",
     "text": [
      "HORASAN\n"
     ]
    }
   ],
   "source": [
    "for i in ilçe.split():\n",
    "    print(i)"
   ]
  },
  {
   "cell_type": "code",
   "execution_count": 12,
   "id": "0c0b0e57",
   "metadata": {},
   "outputs": [
    {
     "data": {
      "text/plain": [
       "False"
      ]
     },
     "execution_count": 12,
     "metadata": {},
     "output_type": "execute_result"
    }
   ],
   "source": [
    "ilçe.endswith(\"a\")"
   ]
  },
  {
   "cell_type": "code",
   "execution_count": 13,
   "id": "e0df91a5",
   "metadata": {},
   "outputs": [
    {
     "data": {
      "text/plain": [
       "True"
      ]
     },
     "execution_count": 13,
     "metadata": {},
     "output_type": "execute_result"
    }
   ],
   "source": [
    "ilçe.endswith(\"AN\")"
   ]
  },
  {
   "cell_type": "code",
   "execution_count": 14,
   "id": "3f96f91f",
   "metadata": {},
   "outputs": [
    {
     "data": {
      "text/plain": [
       "'Selam Millet Ben Geldim'"
      ]
     },
     "execution_count": 14,
     "metadata": {},
     "output_type": "execute_result"
    }
   ],
   "source": [
    "liste4 = \"selam millet ben geldim\"\n",
    "\n",
    "liste4.title()"
   ]
  },
  {
   "cell_type": "code",
   "execution_count": 16,
   "id": "cc12f4b2",
   "metadata": {},
   "outputs": [],
   "source": [
    "mesele =liste4.split()"
   ]
  },
  {
   "cell_type": "code",
   "execution_count": 18,
   "id": "388d4fdf",
   "metadata": {},
   "outputs": [
    {
     "name": "stdout",
     "output_type": "stream",
     "text": [
      "Selam\n",
      "Millet\n",
      "Ben\n",
      "Geldim\n"
     ]
    }
   ],
   "source": [
    "for i in mesele:\n",
    "    print(i.capitalize())\n"
   ]
  },
  {
   "cell_type": "code",
   "execution_count": null,
   "id": "a0dd5795",
   "metadata": {},
   "outputs": [],
   "source": []
  }
 ],
 "metadata": {
  "kernelspec": {
   "display_name": "Python 3 (ipykernel)",
   "language": "python",
   "name": "python3"
  },
  "language_info": {
   "codemirror_mode": {
    "name": "ipython",
    "version": 3
   },
   "file_extension": ".py",
   "mimetype": "text/x-python",
   "name": "python",
   "nbconvert_exporter": "python",
   "pygments_lexer": "ipython3",
   "version": "3.9.7"
  }
 },
 "nbformat": 4,
 "nbformat_minor": 5
}

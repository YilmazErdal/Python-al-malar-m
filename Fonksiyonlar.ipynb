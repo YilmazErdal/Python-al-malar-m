{
 "cells": [
  {
   "cell_type": "code",
   "execution_count": 1,
   "id": "6976bab0",
   "metadata": {},
   "outputs": [],
   "source": [
    "a=[1,2,3,4,]"
   ]
  },
  {
   "cell_type": "code",
   "execution_count": 2,
   "id": "2843f1dd",
   "metadata": {},
   "outputs": [
    {
     "data": {
      "text/plain": [
       "list"
      ]
     },
     "execution_count": 2,
     "metadata": {},
     "output_type": "execute_result"
    }
   ],
   "source": [
    "type(a)"
   ]
  },
  {
   "cell_type": "code",
   "execution_count": 3,
   "id": "e4a86526",
   "metadata": {},
   "outputs": [],
   "source": [
    "a.insert(5,\"ali\")"
   ]
  },
  {
   "cell_type": "code",
   "execution_count": 4,
   "id": "66345ce7",
   "metadata": {},
   "outputs": [
    {
     "data": {
      "text/plain": [
       "[1, 2, 3, 4, 'ali']"
      ]
     },
     "execution_count": 4,
     "metadata": {},
     "output_type": "execute_result"
    }
   ],
   "source": [
    "a"
   ]
  },
  {
   "cell_type": "code",
   "execution_count": 6,
   "id": "0d0698b7",
   "metadata": {},
   "outputs": [
    {
     "name": "stdout",
     "output_type": "stream",
     "text": [
      "Help on built-in function append:\n",
      "\n",
      "append(object, /) method of builtins.list instance\n",
      "    Append object to the end of the list.\n",
      "\n"
     ]
    }
   ],
   "source": [
    "help(a.append)"
   ]
  },
  {
   "cell_type": "code",
   "execution_count": 9,
   "id": "3eb1a913",
   "metadata": {},
   "outputs": [
    {
     "name": "stdout",
     "output_type": "stream",
     "text": [
      "Help on built-in function pop:\n",
      "\n",
      "pop(index=-1, /) method of builtins.list instance\n",
      "    Remove and return item at index (default last).\n",
      "    \n",
      "    Raises IndexError if list is empty or index is out of range.\n",
      "\n"
     ]
    }
   ],
   "source": [
    "help(a.pop)"
   ]
  },
  {
   "cell_type": "code",
   "execution_count": 10,
   "id": "63c494a4",
   "metadata": {},
   "outputs": [],
   "source": [
    "def selam():\n",
    "    print(\"merhaba\")\n",
    "    print(\"nasılsın\")"
   ]
  },
  {
   "cell_type": "code",
   "execution_count": 12,
   "id": "1c04960d",
   "metadata": {},
   "outputs": [
    {
     "name": "stdout",
     "output_type": "stream",
     "text": [
      "merhaba\n",
      "nasılsın\n",
      "merhaba\n",
      "nasılsın\n"
     ]
    }
   ],
   "source": [
    "selam()\n",
    "selam()"
   ]
  },
  {
   "cell_type": "code",
   "execution_count": 13,
   "id": "db0fba2a",
   "metadata": {},
   "outputs": [],
   "source": [
    "def Toplama(a,b,c):\n",
    "    print(a+b+c)"
   ]
  },
  {
   "cell_type": "code",
   "execution_count": 14,
   "id": "0a39af91",
   "metadata": {},
   "outputs": [
    {
     "name": "stdout",
     "output_type": "stream",
     "text": [
      "16\n"
     ]
    }
   ],
   "source": [
    "Toplama(6,3,7)"
   ]
  },
  {
   "cell_type": "code",
   "execution_count": 18,
   "id": "d5d8dd04",
   "metadata": {},
   "outputs": [],
   "source": [
    "def faktöriyel(sayı):\n",
    "    faktöriyel = 1\n",
    "    if (sayı==0 or sayı==1):\n",
    "        print(\"Faktöriyel\",faktöriyel)\n",
    "    else:\n",
    "        while sayı>=1:\n",
    "            faktöriyel*=sayı\n",
    "            sayı-=1\n",
    "            print(\"Faktöriyel\",faktöriyel)"
   ]
  },
  {
   "cell_type": "code",
   "execution_count": 19,
   "id": "9c7bee95",
   "metadata": {},
   "outputs": [
    {
     "name": "stdout",
     "output_type": "stream",
     "text": [
      "Faktöriyel 1\n"
     ]
    }
   ],
   "source": [
    "faktöriyel(0)"
   ]
  },
  {
   "cell_type": "code",
   "execution_count": 20,
   "id": "cbad22df",
   "metadata": {},
   "outputs": [
    {
     "name": "stdout",
     "output_type": "stream",
     "text": [
      "Faktöriyel 5\n",
      "Faktöriyel 20\n",
      "Faktöriyel 60\n",
      "Faktöriyel 120\n",
      "Faktöriyel 120\n"
     ]
    }
   ],
   "source": [
    "faktöriyel(5)"
   ]
  },
  {
   "cell_type": "markdown",
   "id": "2f76bd61",
   "metadata": {},
   "source": [
    "return"
   ]
  },
  {
   "cell_type": "code",
   "execution_count": 21,
   "id": "0862bc20",
   "metadata": {},
   "outputs": [],
   "source": [
    "def toplama(a,b,c):\n",
    "    return a+b+c\n",
    "def ikiileçarp(a):\n",
    "    return a*2"
   ]
  },
  {
   "cell_type": "code",
   "execution_count": 22,
   "id": "f5bdd551",
   "metadata": {},
   "outputs": [
    {
     "name": "stdout",
     "output_type": "stream",
     "text": [
      "26\n"
     ]
    }
   ],
   "source": [
    "toplam = toplama(3,4,6)\n",
    "print(ikiileçarp(toplam))"
   ]
  },
  {
   "cell_type": "code",
   "execution_count": 23,
   "id": "b0cb3e0e",
   "metadata": {},
   "outputs": [
    {
     "name": "stdout",
     "output_type": "stream",
     "text": [
      "262\n"
     ]
    }
   ],
   "source": [
    "print(ikiileçarp(toplama(23,43,65)))"
   ]
  },
  {
   "cell_type": "code",
   "execution_count": 24,
   "id": "7fc597bf",
   "metadata": {},
   "outputs": [],
   "source": [
    "def ikisayıçarp(a,b):\n",
    "    return a*b\n",
    "    print(\"fonksiyon çalıştı\")#bu fonksiyon çalışmaz,return den sonraki fonksiyonlar çalışmaz.\n",
    "    "
   ]
  },
  {
   "cell_type": "code",
   "execution_count": 25,
   "id": "201a0eed",
   "metadata": {},
   "outputs": [
    {
     "data": {
      "text/plain": [
       "168"
      ]
     },
     "execution_count": 25,
     "metadata": {},
     "output_type": "execute_result"
    }
   ],
   "source": [
    "ikisayıçarp(8,21)"
   ]
  },
  {
   "cell_type": "code",
   "execution_count": 26,
   "id": "05f5fc71",
   "metadata": {},
   "outputs": [],
   "source": [
    "def ikisayıçarp(a,b):\n",
    "    print(\"fonksiyon çalıştı\")\n",
    "    return a*b\n",
    "    "
   ]
  },
  {
   "cell_type": "code",
   "execution_count": 27,
   "id": "4596b0bb",
   "metadata": {},
   "outputs": [
    {
     "name": "stdout",
     "output_type": "stream",
     "text": [
      "fonksiyon çalıştı\n"
     ]
    },
    {
     "data": {
      "text/plain": [
       "168"
      ]
     },
     "execution_count": 27,
     "metadata": {},
     "output_type": "execute_result"
    }
   ],
   "source": [
    "ikisayıçarp(8,21)"
   ]
  },
  {
   "cell_type": "markdown",
   "id": "5a4f3631",
   "metadata": {},
   "source": [
    "Parametre"
   ]
  },
  {
   "cell_type": "code",
   "execution_count": 28,
   "id": "70e3b1f6",
   "metadata": {},
   "outputs": [],
   "source": [
    "def selamla(isim=\"isimsiz\"):\n",
    "    print(\"selam\", isim)\n"
   ]
  },
  {
   "cell_type": "code",
   "execution_count": 29,
   "id": "afc1a3ad",
   "metadata": {},
   "outputs": [
    {
     "name": "stdout",
     "output_type": "stream",
     "text": [
      "selam isimsiz\n"
     ]
    }
   ],
   "source": [
    "selamla()"
   ]
  },
  {
   "cell_type": "code",
   "execution_count": 31,
   "id": "62b66773",
   "metadata": {},
   "outputs": [
    {
     "name": "stdout",
     "output_type": "stream",
     "text": [
      "selam Erdal\n"
     ]
    }
   ],
   "source": [
    "selamla(\"Erdal\")"
   ]
  },
  {
   "cell_type": "markdown",
   "id": "28946b85",
   "metadata": {},
   "source": [
    "lambda"
   ]
  },
  {
   "cell_type": "code",
   "execution_count": 32,
   "id": "6ee42290",
   "metadata": {},
   "outputs": [
    {
     "name": "stdout",
     "output_type": "stream",
     "text": [
      "60\n"
     ]
    }
   ],
   "source": [
    "def beşleçarp(x):\n",
    "    return x*5\n",
    "print(beşleçarp(12))"
   ]
  },
  {
   "cell_type": "code",
   "execution_count": 33,
   "id": "d18a1c08",
   "metadata": {},
   "outputs": [],
   "source": [
    "beşleçarp = lambda x:x*5"
   ]
  },
  {
   "cell_type": "code",
   "execution_count": 34,
   "id": "b502a240",
   "metadata": {},
   "outputs": [
    {
     "data": {
      "text/plain": [
       "35"
      ]
     },
     "execution_count": 34,
     "metadata": {},
     "output_type": "execute_result"
    }
   ],
   "source": [
    "beşleçarp(7)"
   ]
  },
  {
   "cell_type": "code",
   "execution_count": 36,
   "id": "58c21244",
   "metadata": {},
   "outputs": [
    {
     "data": {
      "text/plain": [
       "'uyoumak'"
      ]
     },
     "execution_count": 36,
     "metadata": {},
     "output_type": "execute_result"
    }
   ],
   "source": [
    "def tersçevir(s):\n",
    "    return s[::-1]\n",
    "tersçevir(\"kamuoyu\")"
   ]
  },
  {
   "cell_type": "code",
   "execution_count": 37,
   "id": "4638c3c1",
   "metadata": {},
   "outputs": [],
   "source": [
    "ters = lambda s: s[::-1]"
   ]
  },
  {
   "cell_type": "code",
   "execution_count": 38,
   "id": "6a25038a",
   "metadata": {},
   "outputs": [
    {
     "data": {
      "text/plain": [
       "'nusloralmales'"
      ]
     },
     "execution_count": 38,
     "metadata": {},
     "output_type": "execute_result"
    }
   ],
   "source": [
    "ters(\"selamlarolsun\")"
   ]
  },
  {
   "cell_type": "markdown",
   "id": "6cc010e6",
   "metadata": {},
   "source": [
    "# Asal sayı bulma"
   ]
  },
  {
   "cell_type": "code",
   "execution_count": null,
   "id": "8700a5bf",
   "metadata": {},
   "outputs": [],
   "source": []
  }
 ],
 "metadata": {
  "kernelspec": {
   "display_name": "Python 3 (ipykernel)",
   "language": "python",
   "name": "python3"
  },
  "language_info": {
   "codemirror_mode": {
    "name": "ipython",
    "version": 3
   },
   "file_extension": ".py",
   "mimetype": "text/x-python",
   "name": "python",
   "nbconvert_exporter": "python",
   "pygments_lexer": "ipython3",
   "version": "3.9.7"
  }
 },
 "nbformat": 4,
 "nbformat_minor": 5
}

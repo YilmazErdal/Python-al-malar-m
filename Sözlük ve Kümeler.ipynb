{
 "cells": [
  {
   "cell_type": "markdown",
   "id": "fce450c5",
   "metadata": {},
   "source": [
    "# Sözlükler(Dictinary)"
   ]
  },
  {
   "cell_type": "code",
   "execution_count": 1,
   "id": "9b3d64e1",
   "metadata": {},
   "outputs": [
    {
     "name": "stdout",
     "output_type": "stream",
     "text": [
      "{'erdal': 'Kars'}\n"
     ]
    }
   ],
   "source": [
    "sözlük = {}\n",
    "\n",
    "sözlük[\"erdal\"] = \"Kars\"\n",
    "\n",
    "print(sözlük)"
   ]
  },
  {
   "cell_type": "code",
   "execution_count": 2,
   "id": "f998df6e",
   "metadata": {},
   "outputs": [
    {
     "name": "stdout",
     "output_type": "stream",
     "text": [
      "{'erdal': 'Kars', 'ferhat': 'kayseri'}\n"
     ]
    }
   ],
   "source": [
    "sözlük[\"ferhat\"]= \"kayseri\"\n",
    "\n",
    "print(sözlük)"
   ]
  },
  {
   "cell_type": "code",
   "execution_count": 4,
   "id": "1111a5c7",
   "metadata": {},
   "outputs": [
    {
     "name": "stdout",
     "output_type": "stream",
     "text": [
      "{'erdal': 'Kars', 'ferhat': 'kayseri', 'kemal': 'edirne', 'hüseyin': 'bartın'}\n"
     ]
    }
   ],
   "source": [
    "sözlük[\"kemal\"] = \"edirne\"\n",
    "sözlük[\"hüseyin\"] = \"bartın\"\n",
    "\n",
    "print(sözlük)"
   ]
  },
  {
   "cell_type": "code",
   "execution_count": 5,
   "id": "88b27ce2",
   "metadata": {},
   "outputs": [
    {
     "data": {
      "text/plain": [
       "dict_keys(['erdal', 'ferhat', 'kemal', 'hüseyin'])"
      ]
     },
     "execution_count": 5,
     "metadata": {},
     "output_type": "execute_result"
    }
   ],
   "source": [
    "sözlük.keys()"
   ]
  },
  {
   "cell_type": "code",
   "execution_count": 7,
   "id": "bd943f71",
   "metadata": {},
   "outputs": [
    {
     "data": {
      "text/plain": [
       "dict_values(['Kars', 'kayseri', 'edirne', 'bartın'])"
      ]
     },
     "execution_count": 7,
     "metadata": {},
     "output_type": "execute_result"
    }
   ],
   "source": [
    "sözlük.values()"
   ]
  },
  {
   "cell_type": "code",
   "execution_count": 8,
   "id": "2cef0d11",
   "metadata": {},
   "outputs": [
    {
     "name": "stdout",
     "output_type": "stream",
     "text": [
      "Kars\n",
      "kayseri\n",
      "edirne\n",
      "bartın\n"
     ]
    }
   ],
   "source": [
    "for i in sözlük.values():\n",
    "    print(i)"
   ]
  },
  {
   "cell_type": "code",
   "execution_count": 10,
   "id": "c37a8d68",
   "metadata": {},
   "outputs": [],
   "source": [
    "sözlük1 = list[sözlük.items()]"
   ]
  },
  {
   "cell_type": "code",
   "execution_count": 11,
   "id": "fbc31257",
   "metadata": {},
   "outputs": [
    {
     "data": {
      "text/plain": [
       "list[dict_items([('erdal', 'Kars'), ('ferhat', 'kayseri'), ('kemal', 'edirne'), ('hüseyin', 'bartın')])]"
      ]
     },
     "execution_count": 11,
     "metadata": {},
     "output_type": "execute_result"
    }
   ],
   "source": [
    "sözlük1"
   ]
  },
  {
   "cell_type": "code",
   "execution_count": 12,
   "id": "58b02d5d",
   "metadata": {},
   "outputs": [
    {
     "name": "stdout",
     "output_type": "stream",
     "text": [
      "list[dict_items([('erdal', 'Kars'), ('ferhat', 'kayseri'), ('kemal', 'edirne'), ('hüseyin', 'bartın')])]\n"
     ]
    }
   ],
   "source": [
    "print(sözlük1)"
   ]
  },
  {
   "cell_type": "code",
   "execution_count": 13,
   "id": "6d214939",
   "metadata": {},
   "outputs": [
    {
     "name": "stdout",
     "output_type": "stream",
     "text": [
      "erdal : Kars\n",
      "ferhat : kayseri\n",
      "kemal : edirne\n",
      "hüseyin : bartın\n"
     ]
    }
   ],
   "source": [
    "for i,j in sözlük.items():\n",
    "    print(\"{} : {}\".format(i,j))"
   ]
  },
  {
   "cell_type": "code",
   "execution_count": 1,
   "id": "6f64e053",
   "metadata": {},
   "outputs": [
    {
     "name": "stdout",
     "output_type": "stream",
     "text": [
      "şehrini öğrenmek için isim giriniz:erdal\n",
      "Kars\n"
     ]
    }
   ],
   "source": [
    "soru = input(\"şehrini öğrenmek için isim giriniz:\")\n",
    "\n",
    "cevap = {'erdal': 'Kars', 'ferhat': 'kayseri', 'kemal': 'edirne', 'hüseyin': 'bartın'}\n",
    "\n",
    "print(cevap.get(soru, \"girdğiniz isim sistemde bulunmamaktadır\"))"
   ]
  },
  {
   "cell_type": "code",
   "execution_count": 17,
   "id": "a06b2470",
   "metadata": {},
   "outputs": [],
   "source": [
    "sözlük.clear()"
   ]
  },
  {
   "cell_type": "code",
   "execution_count": 18,
   "id": "f58a4b56",
   "metadata": {},
   "outputs": [
    {
     "name": "stdout",
     "output_type": "stream",
     "text": [
      "{}\n"
     ]
    }
   ],
   "source": [
    "print(sözlük)"
   ]
  },
  {
   "cell_type": "code",
   "execution_count": 30,
   "id": "ac883b22",
   "metadata": {},
   "outputs": [
    {
     "name": "stdout",
     "output_type": "stream",
     "text": [
      "{'hasan': 'adana', 'ibrahim': 'adana', 'yusuf': 'adana'}\n",
      "{'hasan': 'sivas', 'ibrahim': 'sivas', 'yusuf': 'sivas'}\n",
      "{'hasan': 'van', 'ibrahim': 'van', 'yusuf': 'van'}\n"
     ]
    }
   ],
   "source": [
    "isimler = \"hasan\",\"ibrahim\", \"yusuf\"\n",
    "\n",
    "şehir = [\"adana\",\"sivas\",\"van\"]\n",
    "\n",
    "for i in şehir:\n",
    " \n",
    "    şehirler = dict.fromkeys(isimler, i)\n",
    "    print(şehirler)"
   ]
  },
  {
   "cell_type": "markdown",
   "id": "e20097e0",
   "metadata": {},
   "source": [
    "# Kümeler"
   ]
  },
  {
   "cell_type": "code",
   "execution_count": 31,
   "id": "a025427b",
   "metadata": {},
   "outputs": [
    {
     "name": "stdout",
     "output_type": "stream",
     "text": [
      "{'ali', 'veli', 'hasan', 'hüseyin'}\n"
     ]
    }
   ],
   "source": [
    "Boş_küme = set()\n",
    "\n",
    "liste = [\"ali\",\"veli\",\"hasan\",\"hüseyin\"]\n",
    "\n",
    "küme = set(liste)\n",
    "\n",
    "print(küme)"
   ]
  },
  {
   "cell_type": "code",
   "execution_count": 32,
   "id": "37227396",
   "metadata": {},
   "outputs": [
    {
     "name": "stdout",
     "output_type": "stream",
     "text": [
      "{'ı', 'a', 'l', 'e', 'g', 'ğ', 'r', 'ö', 's', 'b', 'i', 'n', 'm'}\n"
     ]
    }
   ],
   "source": [
    "selam = \"insanlığınönemlibirsimgesi\"\n",
    "\n",
    "küme1 = set(selam)\n",
    "\n",
    "print(küme1)"
   ]
  },
  {
   "cell_type": "code",
   "execution_count": 34,
   "id": "6a3d133d",
   "metadata": {},
   "outputs": [
    {
     "name": "stdout",
     "output_type": "stream",
     "text": [
      "{'ferhat', 'erdal', 'hüseyin', 'kemal'}\n"
     ]
    }
   ],
   "source": [
    "sözlük = {'erdal': 'Kars', 'ferhat': 'kayseri', 'kemal': 'edirne', 'hüseyin': 'bartın'}\n",
    " \n",
    "küme3 = set(sözlük)\n",
    "    \n",
    "print(küme3)"
   ]
  },
  {
   "cell_type": "code",
   "execution_count": 37,
   "id": "fc310de5",
   "metadata": {},
   "outputs": [
    {
     "name": "stdout",
     "output_type": "stream",
     "text": [
      "{('kemal', 'edirne'), ('ferhat', 'kayseri'), ('erdal', 'Kars'), ('hüseyin', 'bartın')}\n"
     ]
    }
   ],
   "source": [
    "liste1 = [(keys, value) for keys, value in sözlük.items()]\n",
    "\n",
    "küme4 = set(liste1)\n",
    "\n",
    "print(küme4)"
   ]
  },
  {
   "cell_type": "code",
   "execution_count": 38,
   "id": "4f09491f",
   "metadata": {},
   "outputs": [
    {
     "name": "stdout",
     "output_type": "stream",
     "text": [
      "kemal edirne\n",
      "ferhat kayseri\n",
      "erdal Kars\n",
      "hüseyin bartın\n"
     ]
    }
   ],
   "source": [
    "for i,j in küme4:\n",
    "    print(i,j)"
   ]
  },
  {
   "cell_type": "code",
   "execution_count": 2,
   "id": "51573155",
   "metadata": {},
   "outputs": [
    {
     "name": "stdout",
     "output_type": "stream",
     "text": [
      "{89, 66, 43, 44, 45, 78, 14, 80, 48, 19, 85, 57, 95, 63}\n"
     ]
    }
   ],
   "source": [
    "import random\n",
    "\n",
    "liste2 = [random.randint(0, 10000) for i in range(1000)]\n",
    "\n",
    "küme6 = {i for i in liste2 if i<100}\n",
    "\n",
    "print(küme6)\n",
    "    "
   ]
  },
  {
   "cell_type": "code",
   "execution_count": 42,
   "id": "1d9b0f2b",
   "metadata": {},
   "outputs": [
    {
     "data": {
      "text/plain": [
       "['__and__',\n",
       " '__class__',\n",
       " '__class_getitem__',\n",
       " '__contains__',\n",
       " '__delattr__',\n",
       " '__dir__',\n",
       " '__doc__',\n",
       " '__eq__',\n",
       " '__format__',\n",
       " '__ge__',\n",
       " '__getattribute__',\n",
       " '__gt__',\n",
       " '__hash__',\n",
       " '__iand__',\n",
       " '__init__',\n",
       " '__init_subclass__',\n",
       " '__ior__',\n",
       " '__isub__',\n",
       " '__iter__',\n",
       " '__ixor__',\n",
       " '__le__',\n",
       " '__len__',\n",
       " '__lt__',\n",
       " '__ne__',\n",
       " '__new__',\n",
       " '__or__',\n",
       " '__rand__',\n",
       " '__reduce__',\n",
       " '__reduce_ex__',\n",
       " '__repr__',\n",
       " '__ror__',\n",
       " '__rsub__',\n",
       " '__rxor__',\n",
       " '__setattr__',\n",
       " '__sizeof__',\n",
       " '__str__',\n",
       " '__sub__',\n",
       " '__subclasshook__',\n",
       " '__xor__',\n",
       " 'add',\n",
       " 'clear',\n",
       " 'copy',\n",
       " 'difference',\n",
       " 'difference_update',\n",
       " 'discard',\n",
       " 'intersection',\n",
       " 'intersection_update',\n",
       " 'isdisjoint',\n",
       " 'issubset',\n",
       " 'issuperset',\n",
       " 'pop',\n",
       " 'remove',\n",
       " 'symmetric_difference',\n",
       " 'symmetric_difference_update',\n",
       " 'union',\n",
       " 'update']"
      ]
     },
     "execution_count": 42,
     "metadata": {},
     "output_type": "execute_result"
    }
   ],
   "source": [
    "dir(set) # kümelerin metodları"
   ]
  },
  {
   "cell_type": "code",
   "execution_count": 44,
   "id": "5f48bfc8",
   "metadata": {},
   "outputs": [
    {
     "name": "stdout",
     "output_type": "stream",
     "text": [
      "add\n",
      "clear\n",
      "copy\n",
      "difference\n",
      "difference_update\n",
      "discard\n",
      "intersection\n",
      "intersection_update\n",
      "isdisjoint\n",
      "issubset\n",
      "issuperset\n",
      "pop\n",
      "remove\n",
      "symmetric_difference\n",
      "symmetric_difference_update\n",
      "union\n",
      "update\n"
     ]
    }
   ],
   "source": [
    "for i in dir(set):\n",
    "    if \"__\" not in i:\n",
    "        print(i)"
   ]
  },
  {
   "cell_type": "code",
   "execution_count": 45,
   "id": "238bd082",
   "metadata": {},
   "outputs": [
    {
     "data": {
      "text/plain": [
       "{0, 1, 2, 3, 4, 5, 6, 7, 8, 9}"
      ]
     },
     "execution_count": 45,
     "metadata": {},
     "output_type": "execute_result"
    }
   ],
   "source": [
    "km = set(range(10))\n",
    "\n",
    "km"
   ]
  },
  {
   "cell_type": "code",
   "execution_count": 46,
   "id": "03c20b4d",
   "metadata": {},
   "outputs": [],
   "source": [
    "yedek = km.copy()"
   ]
  },
  {
   "cell_type": "code",
   "execution_count": 47,
   "id": "154fc90c",
   "metadata": {},
   "outputs": [
    {
     "data": {
      "text/plain": [
       "{0, 1, 2, 3, 4, 5, 6, 7, 8, 9}"
      ]
     },
     "execution_count": 47,
     "metadata": {},
     "output_type": "execute_result"
    }
   ],
   "source": [
    "yedek"
   ]
  },
  {
   "cell_type": "code",
   "execution_count": 48,
   "id": "ad1b7847",
   "metadata": {},
   "outputs": [],
   "source": [
    "km.clear()"
   ]
  },
  {
   "cell_type": "code",
   "execution_count": 49,
   "id": "72793704",
   "metadata": {},
   "outputs": [
    {
     "data": {
      "text/plain": [
       "set()"
      ]
     },
     "execution_count": 49,
     "metadata": {},
     "output_type": "execute_result"
    }
   ],
   "source": [
    "km"
   ]
  },
  {
   "cell_type": "code",
   "execution_count": 50,
   "id": "0a01a9e7",
   "metadata": {},
   "outputs": [
    {
     "data": {
      "text/plain": [
       "{0, 1, 2, 3, 4, 5, 6, 7, 8, 9}"
      ]
     },
     "execution_count": 50,
     "metadata": {},
     "output_type": "execute_result"
    }
   ],
   "source": [
    "yedek"
   ]
  },
  {
   "cell_type": "code",
   "execution_count": 53,
   "id": "f2fbd2b2",
   "metadata": {},
   "outputs": [],
   "source": [
    "km1 = set(range(4,19))"
   ]
  },
  {
   "cell_type": "code",
   "execution_count": 54,
   "id": "6733fa58",
   "metadata": {},
   "outputs": [],
   "source": [
    "yedek = km1.copy()"
   ]
  },
  {
   "cell_type": "code",
   "execution_count": 55,
   "id": "93d3f8e0",
   "metadata": {},
   "outputs": [
    {
     "data": {
      "text/plain": [
       "{4, 5, 6, 7, 8, 9, 10, 11, 12, 13, 14, 15, 16, 17, 18}"
      ]
     },
     "execution_count": 55,
     "metadata": {},
     "output_type": "execute_result"
    }
   ],
   "source": [
    "yedek"
   ]
  },
  {
   "cell_type": "code",
   "execution_count": 56,
   "id": "cd4911a8",
   "metadata": {},
   "outputs": [],
   "source": [
    "yedek.add(75)"
   ]
  },
  {
   "cell_type": "code",
   "execution_count": 57,
   "id": "41434d2d",
   "metadata": {},
   "outputs": [
    {
     "data": {
      "text/plain": [
       "{4, 5, 6, 7, 8, 9, 10, 11, 12, 13, 14, 15, 16, 17, 18, 75}"
      ]
     },
     "execution_count": 57,
     "metadata": {},
     "output_type": "execute_result"
    }
   ],
   "source": [
    "yedek"
   ]
  },
  {
   "cell_type": "code",
   "execution_count": 58,
   "id": "967aaea4",
   "metadata": {},
   "outputs": [
    {
     "data": {
      "text/plain": [
       "{75}"
      ]
     },
     "execution_count": 58,
     "metadata": {},
     "output_type": "execute_result"
    }
   ],
   "source": [
    "yedek.difference(km1)"
   ]
  },
  {
   "cell_type": "code",
   "execution_count": 59,
   "id": "cc71a91e",
   "metadata": {},
   "outputs": [],
   "source": [
    "yedek.discard(18)"
   ]
  },
  {
   "cell_type": "code",
   "execution_count": 60,
   "id": "774adaab",
   "metadata": {},
   "outputs": [
    {
     "data": {
      "text/plain": [
       "{4, 5, 6, 7, 8, 9, 10, 11, 12, 13, 14, 15, 16, 17, 75}"
      ]
     },
     "execution_count": 60,
     "metadata": {},
     "output_type": "execute_result"
    }
   ],
   "source": [
    "yedek"
   ]
  },
  {
   "cell_type": "code",
   "execution_count": 62,
   "id": "df7aa3d0",
   "metadata": {},
   "outputs": [],
   "source": [
    "yedek.discard(17)"
   ]
  },
  {
   "cell_type": "code",
   "execution_count": 63,
   "id": "26c0a315",
   "metadata": {},
   "outputs": [],
   "source": [
    "yedek.difference_update(km1)"
   ]
  },
  {
   "cell_type": "code",
   "execution_count": 64,
   "id": "4d3cc322",
   "metadata": {},
   "outputs": [
    {
     "data": {
      "text/plain": [
       "{75}"
      ]
     },
     "execution_count": 64,
     "metadata": {},
     "output_type": "execute_result"
    }
   ],
   "source": [
    "yedek"
   ]
  },
  {
   "cell_type": "code",
   "execution_count": null,
   "id": "0b620096",
   "metadata": {},
   "outputs": [],
   "source": []
  }
 ],
 "metadata": {
  "kernelspec": {
   "display_name": "Python 3 (ipykernel)",
   "language": "python",
   "name": "python3"
  },
  "language_info": {
   "codemirror_mode": {
    "name": "ipython",
    "version": 3
   },
   "file_extension": ".py",
   "mimetype": "text/x-python",
   "name": "python",
   "nbconvert_exporter": "python",
   "pygments_lexer": "ipython3",
   "version": "3.9.7"
  }
 },
 "nbformat": 4,
 "nbformat_minor": 5
}

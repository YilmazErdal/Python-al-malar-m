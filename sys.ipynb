{
 "cells": [
  {
   "cell_type": "code",
   "execution_count": 1,
   "id": "7b97ff41",
   "metadata": {},
   "outputs": [
    {
     "data": {
      "text/plain": [
       "sys.version_info(major=3, minor=9, micro=7, releaselevel='final', serial=0)"
      ]
     },
     "execution_count": 1,
     "metadata": {},
     "output_type": "execute_result"
    }
   ],
   "source": [
    "import sys\n",
    "\n",
    "sys.version_info"
   ]
  },
  {
   "cell_type": "code",
   "execution_count": 3,
   "id": "91794a4e",
   "metadata": {},
   "outputs": [
    {
     "name": "stdout",
     "output_type": "stream",
     "text": [
      "bilgisayar açık\n",
      "bilgisayar açık\n",
      "bilgisayar açık\n",
      "bilgisayar açık\n",
      "bilgisayar açık\n",
      "bilgisayar açık\n",
      "bilgisayar açık\n",
      "bilgisayar açık\n",
      "bilgisayar açık\n"
     ]
    }
   ],
   "source": [
    "a = 1\n",
    "\n",
    "while a<10:\n",
    "    \n",
    "    a+=1\n",
    "    print(\"bilgisayar açık\")"
   ]
  },
  {
   "cell_type": "code",
   "execution_count": 5,
   "id": "83dfad39",
   "metadata": {},
   "outputs": [
    {
     "name": "stdout",
     "output_type": "stream",
     "text": [
      "2\n",
      "4\n",
      "6\n",
      "8\n",
      "10\n",
      "12\n",
      "14\n",
      "16\n",
      "18\n",
      "20\n",
      "[2, 4, 6, 8, 10, 12, 14, 16, 18, 20]\n"
     ]
    }
   ],
   "source": [
    "a = 0\n",
    "liste = []\n",
    "while a<20:\n",
    "    \n",
    "    a+=1\n",
    "    if a %2 == 0:\n",
    "        liste.append(a)\n",
    "        print(a)\n",
    "print(liste)"
   ]
  },
  {
   "cell_type": "code",
   "execution_count": 15,
   "id": "9235c1c6",
   "metadata": {},
   "outputs": [
    {
     "name": "stdout",
     "output_type": "stream",
     "text": [
      "1\n",
      "2\n",
      "3\n",
      "4\n",
      "5\n",
      "6\n",
      "7\n",
      "8\n",
      "9\n",
      "10\n",
      "11\n",
      "12\n",
      "13\n",
      "14\n"
     ]
    }
   ],
   "source": [
    "for i in list(range(1,15)):\n",
    "    print(i)"
   ]
  },
  {
   "cell_type": "code",
   "execution_count": 1,
   "id": "075633d6",
   "metadata": {},
   "outputs": [],
   "source": [
    "liste3 = \"selam\""
   ]
  },
  {
   "cell_type": "code",
   "execution_count": 6,
   "id": "1d3a47a4",
   "metadata": {},
   "outputs": [
    {
     "data": {
      "text/plain": [
       "'*****selam*****'"
      ]
     },
     "execution_count": 6,
     "metadata": {},
     "output_type": "execute_result"
    }
   ],
   "source": [
    "liste3.center(15,\"*\")"
   ]
  },
  {
   "cell_type": "code",
   "execution_count": 7,
   "id": "303de04b",
   "metadata": {},
   "outputs": [
    {
     "data": {
      "text/plain": [
       "3"
      ]
     },
     "execution_count": 7,
     "metadata": {},
     "output_type": "execute_result"
    }
   ],
   "source": [
    "liste3.index(\"a\")"
   ]
  },
  {
   "cell_type": "code",
   "execution_count": 9,
   "id": "71ab38d9",
   "metadata": {},
   "outputs": [
    {
     "data": {
      "text/plain": [
       "3"
      ]
     },
     "execution_count": 9,
     "metadata": {},
     "output_type": "execute_result"
    }
   ],
   "source": [
    "liste3.rindex(\"a\")"
   ]
  },
  {
   "cell_type": "code",
   "execution_count": 11,
   "id": "3653eacd",
   "metadata": {},
   "outputs": [
    {
     "data": {
      "text/plain": [
       "-1"
      ]
     },
     "execution_count": 11,
     "metadata": {},
     "output_type": "execute_result"
    }
   ],
   "source": [
    "liste3.find(\"z\")"
   ]
  },
  {
   "cell_type": "code",
   "execution_count": 13,
   "id": "ad03c344",
   "metadata": {},
   "outputs": [
    {
     "data": {
      "text/plain": [
       "0"
      ]
     },
     "execution_count": 13,
     "metadata": {},
     "output_type": "execute_result"
    }
   ],
   "source": [
    "liste3.find(\"s\")"
   ]
  },
  {
   "cell_type": "code",
   "execution_count": 14,
   "id": "9dfe59f9",
   "metadata": {},
   "outputs": [
    {
     "data": {
      "text/plain": [
       "'selam               '"
      ]
     },
     "execution_count": 14,
     "metadata": {},
     "output_type": "execute_result"
    }
   ],
   "source": [
    "liste3.ljust(20)"
   ]
  },
  {
   "cell_type": "code",
   "execution_count": 15,
   "id": "3645417a",
   "metadata": {},
   "outputs": [
    {
     "data": {
      "text/plain": [
       "'               selam'"
      ]
     },
     "execution_count": 15,
     "metadata": {},
     "output_type": "execute_result"
    }
   ],
   "source": [
    "liste3.rjust(20)"
   ]
  },
  {
   "cell_type": "code",
   "execution_count": 16,
   "id": "924bf314",
   "metadata": {},
   "outputs": [
    {
     "data": {
      "text/plain": [
       "'       selam        '"
      ]
     },
     "execution_count": 16,
     "metadata": {},
     "output_type": "execute_result"
    }
   ],
   "source": [
    "liste3.center(20)"
   ]
  },
  {
   "cell_type": "code",
   "execution_count": 17,
   "id": "6cbce576",
   "metadata": {},
   "outputs": [
    {
     "data": {
      "text/plain": [
       "'256'"
      ]
     },
     "execution_count": 17,
     "metadata": {},
     "output_type": "execute_result"
    }
   ],
   "source": [
    "z=\"256\"\n",
    "\n",
    "z.zfill(3)"
   ]
  },
  {
   "cell_type": "code",
   "execution_count": 18,
   "id": "36763157",
   "metadata": {},
   "outputs": [
    {
     "data": {
      "text/plain": [
       "'00256'"
      ]
     },
     "execution_count": 18,
     "metadata": {},
     "output_type": "execute_result"
    }
   ],
   "source": [
    "z.zfill(5)"
   ]
  },
  {
   "cell_type": "code",
   "execution_count": 19,
   "id": "1be1c2f5",
   "metadata": {},
   "outputs": [
    {
     "name": "stdout",
     "output_type": "stream",
     "text": [
      "000\n",
      "001\n",
      "002\n",
      "003\n",
      "004\n",
      "005\n",
      "006\n",
      "007\n",
      "008\n",
      "009\n"
     ]
    }
   ],
   "source": [
    "for i in range(10):\n",
    "    print(str(i).zfill(3))"
   ]
  },
  {
   "cell_type": "code",
   "execution_count": null,
   "id": "2e3c3741",
   "metadata": {},
   "outputs": [],
   "source": []
  }
 ],
 "metadata": {
  "kernelspec": {
   "display_name": "Python 3 (ipykernel)",
   "language": "python",
   "name": "python3"
  },
  "language_info": {
   "codemirror_mode": {
    "name": "ipython",
    "version": 3
   },
   "file_extension": ".py",
   "mimetype": "text/x-python",
   "name": "python",
   "nbconvert_exporter": "python",
   "pygments_lexer": "ipython3",
   "version": "3.9.7"
  }
 },
 "nbformat": 4,
 "nbformat_minor": 5
}
